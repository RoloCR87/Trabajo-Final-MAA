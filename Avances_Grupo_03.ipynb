{
  "nbformat": 4,
  "nbformat_minor": 0,
  "metadata": {
    "colab": {
      "name": "Avances_Grupo_03.ipynb",
      "provenance": [],
      "collapsed_sections": [],
      "include_colab_link": true
    },
    "kernelspec": {
      "name": "python3",
      "display_name": "Python 3"
    },
    "language_info": {
      "name": "python"
    }
  },
  "cells": [
    {
      "cell_type": "markdown",
      "metadata": {
        "id": "view-in-github",
        "colab_type": "text"
      },
      "source": [
        "<a href=\"https://colab.research.google.com/github/RoloCR87/Trabajo-Final-MAA/blob/main/Avances_Grupo_03.ipynb\" target=\"_parent\"><img src=\"https://colab.research.google.com/assets/colab-badge.svg\" alt=\"Open In Colab\"/></a>"
      ]
    },
    {
      "cell_type": "code",
      "execution_count": null,
      "metadata": {
        "id": "-p4pG_Tlj1KH"
      },
      "outputs": [],
      "source": [
        "import pandas as pd\n",
        "import numpy as np\n",
        "import matplotlib.pyplot as plt\n",
        "import seaborn as sns"
      ]
    },
    {
      "cell_type": "code",
      "source": [
        "voces = pd.read_csv(\"https://raw.githubusercontent.com/RoloCR87/Trabajo-Final-MAA/main/voces.csv\", sep = \";\")"
      ],
      "metadata": {
        "id": "ePD8PcQGBjR0"
      },
      "execution_count": null,
      "outputs": []
    },
    {
      "cell_type": "code",
      "source": [
        "from google.colab import drive\n",
        "drive.mount('/content/drive')"
      ],
      "metadata": {
        "colab": {
          "base_uri": "https://localhost:8080/"
        },
        "id": "fDBdSKp_Bphc",
        "outputId": "9652a363-3929-4ce7-f031-1c46223c1549"
      },
      "execution_count": null,
      "outputs": [
        {
          "output_type": "stream",
          "name": "stdout",
          "text": [
            "Drive already mounted at /content/drive; to attempt to forcibly remount, call drive.mount(\"/content/drive\", force_remount=True).\n"
          ]
        }
      ]
    },
    {
      "cell_type": "code",
      "source": [
        "print(voces)"
      ],
      "metadata": {
        "id": "sIM1zXPYo-vK",
        "colab": {
          "base_uri": "https://localhost:8080/"
        },
        "outputId": "bffa7399-942d-4d54-a18a-0564692a9812"
      },
      "execution_count": null,
      "outputs": [
        {
          "output_type": "stream",
          "name": "stdout",
          "text": [
            "      meanfreq        sd    median       Q25       Q75       IQR  \\\n",
            "0     0.059781  0.064241  0.032027  0.015071  0.090193  0.075122   \n",
            "1     0.066009  0.067310  0.040229  0.019414  0.092666  0.073252   \n",
            "2     0.077316  0.083829  0.036718  0.008701  0.131908  0.123207   \n",
            "3     0.151228  0.072111  0.158011  0.096582  0.207955  0.111374   \n",
            "4     0.135120  0.079146  0.124656  0.078720  0.206045  0.127325   \n",
            "...        ...       ...       ...       ...       ...       ...   \n",
            "3163  0.131884  0.084734  0.153707  0.049285  0.201144  0.151859   \n",
            "3164  0.116221  0.089221  0.076758  0.042718  0.204911  0.162193   \n",
            "3165  0.142056  0.095798  0.183731  0.033424  0.224360  0.190936   \n",
            "3166  0.143659  0.090628  0.184976  0.043508  0.219943  0.176435   \n",
            "3167  0.165509  0.092884  0.183044  0.070072  0.250827  0.180756   \n",
            "\n",
            "                     skew                 kurt    sp.ent       sfm  ...  \\\n",
            "0     128.634.618.371.626  274.402.905.502.067  0.893369  0.491918  ...   \n",
            "1     224.232.853.628.204  634.613.854.542.068  0.892193  0.513724  ...   \n",
            "2     307.571.545.800.584    1.024.927.704.721  0.846389  0.478905  ...   \n",
            "3     123.283.127.554.372  417.729.621.025.317  0.963322  0.727232  ...   \n",
            "4     110.117.366.551.545   43.337.131.547.091  0.971955  0.783568  ...   \n",
            "...                   ...                  ...       ...       ...  ...   \n",
            "3163  176.212.855.902.146  663.038.301.533.104  0.962934  0.763182  ...   \n",
            "3164    0.693730265800808  250.395.446.908.969  0.960716  0.709570  ...   \n",
            "3165   18.765.016.261.382  660.450.859.443.523  0.946854  0.654196  ...   \n",
            "3166  159.106.489.452.459  538.829.754.263.834  0.950436  0.675470  ...   \n",
            "3167  170.502.911.922.022  576.911.536.636.857  0.938829  0.601529  ...   \n",
            "\n",
            "                centroid             meanfun              minfun  \\\n",
            "0     0.0597809849598081   0.084279106440321  0.0157016683022571   \n",
            "1      0.066008740387572   0.107936553670454  0.0158259149357072   \n",
            "2     0.0773155026958227  0.0987062615673936  0.0156555772994129   \n",
            "3      0.151228091724635  0.0889648485504597   0.017797552836485   \n",
            "4      0.135120387296677   0.106397844620363  0.0169312169312169   \n",
            "...                  ...                 ...                 ...   \n",
            "3163   0.131883734383811      0.182789590594  0.0837696335078534   \n",
            "3164   0.116220922114276   0.188979665912333  0.0344086021505376   \n",
            "3165   0.142056255712406   0.209917676760527  0.0395061728395062   \n",
            "3166   0.143658744830027   0.172374995915133  0.0344827586206897   \n",
            "3167   0.165508946001837   0.185606931233589  0.0622568093385214   \n",
            "\n",
            "                 maxfun              meandom    mindom      maxdom  \\\n",
            "0     0.275862068965517            0.0078125  0.007812   0.0078125   \n",
            "1                  0.25  0.00901442307692308  0.007812   0.0546875   \n",
            "2     0.271186440677966  0.00799005681818182  0.007812    0.015625   \n",
            "3                  0.25    0.201497395833333  0.007812      0.5625   \n",
            "4     0.266666666666667            0.7128125  0.007812   5.484.375   \n",
            "...                 ...                  ...       ...         ...   \n",
            "3163  0.262295081967213    0.832899305555556  0.007812  42.109.375   \n",
            "3164  0.275862068965517    0.909855769230769  0.039062  36.796.875   \n",
            "3165  0.275862068965517    0.494270833333333  0.007812      29.375   \n",
            "3166               0.25    0.791360294117647  0.007812     359.375   \n",
            "3167  0.271186440677966    0.227022058823529  0.007812   0.5546875   \n",
            "\n",
            "         dfrange   modindx     genero  \n",
            "0              0  0.000000  Masculino  \n",
            "1       0.046875  0.052632  Masculino  \n",
            "2      0.0078125  0.046512  Masculino  \n",
            "3      0.5546875  0.247119  Masculino  \n",
            "4     54.765.625  0.208274  Masculino  \n",
            "...          ...       ...        ...  \n",
            "3163   4.203.125  0.161929   Femenino  \n",
            "3164   3.640.625  0.277897   Femenino  \n",
            "3165  29.296.875  0.194759   Femenino  \n",
            "3166  35.859.375  0.311002   Femenino  \n",
            "3167    0.546875  0.350000   Femenino  \n",
            "\n",
            "[3168 rows x 21 columns]\n"
          ]
        }
      ]
    },
    {
      "cell_type": "code",
      "source": [
        "voces.head()"
      ],
      "metadata": {
        "id": "JrqatDHYpAnl",
        "colab": {
          "base_uri": "https://localhost:8080/",
          "height": 300
        },
        "outputId": "efa7f862-1def-4133-c446-afad0653c881"
      },
      "execution_count": null,
      "outputs": [
        {
          "output_type": "execute_result",
          "data": {
            "text/plain": [
              "   meanfreq        sd    median       Q25       Q75       IQR  \\\n",
              "0  0.059781  0.064241  0.032027  0.015071  0.090193  0.075122   \n",
              "1  0.066009  0.067310  0.040229  0.019414  0.092666  0.073252   \n",
              "2  0.077316  0.083829  0.036718  0.008701  0.131908  0.123207   \n",
              "3  0.151228  0.072111  0.158011  0.096582  0.207955  0.111374   \n",
              "4  0.135120  0.079146  0.124656  0.078720  0.206045  0.127325   \n",
              "\n",
              "                  skew                 kurt    sp.ent       sfm  ...  \\\n",
              "0  128.634.618.371.626  274.402.905.502.067  0.893369  0.491918  ...   \n",
              "1  224.232.853.628.204  634.613.854.542.068  0.892193  0.513724  ...   \n",
              "2  307.571.545.800.584    1.024.927.704.721  0.846389  0.478905  ...   \n",
              "3  123.283.127.554.372  417.729.621.025.317  0.963322  0.727232  ...   \n",
              "4  110.117.366.551.545   43.337.131.547.091  0.971955  0.783568  ...   \n",
              "\n",
              "             centroid             meanfun              minfun  \\\n",
              "0  0.0597809849598081   0.084279106440321  0.0157016683022571   \n",
              "1   0.066008740387572   0.107936553670454  0.0158259149357072   \n",
              "2  0.0773155026958227  0.0987062615673936  0.0156555772994129   \n",
              "3   0.151228091724635  0.0889648485504597   0.017797552836485   \n",
              "4   0.135120387296677   0.106397844620363  0.0169312169312169   \n",
              "\n",
              "              maxfun              meandom    mindom     maxdom     dfrange  \\\n",
              "0  0.275862068965517            0.0078125  0.007812  0.0078125           0   \n",
              "1               0.25  0.00901442307692308  0.007812  0.0546875    0.046875   \n",
              "2  0.271186440677966  0.00799005681818182  0.007812   0.015625   0.0078125   \n",
              "3               0.25    0.201497395833333  0.007812     0.5625   0.5546875   \n",
              "4  0.266666666666667            0.7128125  0.007812  5.484.375  54.765.625   \n",
              "\n",
              "    modindx     genero  \n",
              "0  0.000000  Masculino  \n",
              "1  0.052632  Masculino  \n",
              "2  0.046512  Masculino  \n",
              "3  0.247119  Masculino  \n",
              "4  0.208274  Masculino  \n",
              "\n",
              "[5 rows x 21 columns]"
            ],
            "text/html": [
              "\n",
              "  <div id=\"df-5e4d23f4-337d-4e6e-8325-cbbb90b35fb6\">\n",
              "    <div class=\"colab-df-container\">\n",
              "      <div>\n",
              "<style scoped>\n",
              "    .dataframe tbody tr th:only-of-type {\n",
              "        vertical-align: middle;\n",
              "    }\n",
              "\n",
              "    .dataframe tbody tr th {\n",
              "        vertical-align: top;\n",
              "    }\n",
              "\n",
              "    .dataframe thead th {\n",
              "        text-align: right;\n",
              "    }\n",
              "</style>\n",
              "<table border=\"1\" class=\"dataframe\">\n",
              "  <thead>\n",
              "    <tr style=\"text-align: right;\">\n",
              "      <th></th>\n",
              "      <th>meanfreq</th>\n",
              "      <th>sd</th>\n",
              "      <th>median</th>\n",
              "      <th>Q25</th>\n",
              "      <th>Q75</th>\n",
              "      <th>IQR</th>\n",
              "      <th>skew</th>\n",
              "      <th>kurt</th>\n",
              "      <th>sp.ent</th>\n",
              "      <th>sfm</th>\n",
              "      <th>...</th>\n",
              "      <th>centroid</th>\n",
              "      <th>meanfun</th>\n",
              "      <th>minfun</th>\n",
              "      <th>maxfun</th>\n",
              "      <th>meandom</th>\n",
              "      <th>mindom</th>\n",
              "      <th>maxdom</th>\n",
              "      <th>dfrange</th>\n",
              "      <th>modindx</th>\n",
              "      <th>genero</th>\n",
              "    </tr>\n",
              "  </thead>\n",
              "  <tbody>\n",
              "    <tr>\n",
              "      <th>0</th>\n",
              "      <td>0.059781</td>\n",
              "      <td>0.064241</td>\n",
              "      <td>0.032027</td>\n",
              "      <td>0.015071</td>\n",
              "      <td>0.090193</td>\n",
              "      <td>0.075122</td>\n",
              "      <td>128.634.618.371.626</td>\n",
              "      <td>274.402.905.502.067</td>\n",
              "      <td>0.893369</td>\n",
              "      <td>0.491918</td>\n",
              "      <td>...</td>\n",
              "      <td>0.0597809849598081</td>\n",
              "      <td>0.084279106440321</td>\n",
              "      <td>0.0157016683022571</td>\n",
              "      <td>0.275862068965517</td>\n",
              "      <td>0.0078125</td>\n",
              "      <td>0.007812</td>\n",
              "      <td>0.0078125</td>\n",
              "      <td>0</td>\n",
              "      <td>0.000000</td>\n",
              "      <td>Masculino</td>\n",
              "    </tr>\n",
              "    <tr>\n",
              "      <th>1</th>\n",
              "      <td>0.066009</td>\n",
              "      <td>0.067310</td>\n",
              "      <td>0.040229</td>\n",
              "      <td>0.019414</td>\n",
              "      <td>0.092666</td>\n",
              "      <td>0.073252</td>\n",
              "      <td>224.232.853.628.204</td>\n",
              "      <td>634.613.854.542.068</td>\n",
              "      <td>0.892193</td>\n",
              "      <td>0.513724</td>\n",
              "      <td>...</td>\n",
              "      <td>0.066008740387572</td>\n",
              "      <td>0.107936553670454</td>\n",
              "      <td>0.0158259149357072</td>\n",
              "      <td>0.25</td>\n",
              "      <td>0.00901442307692308</td>\n",
              "      <td>0.007812</td>\n",
              "      <td>0.0546875</td>\n",
              "      <td>0.046875</td>\n",
              "      <td>0.052632</td>\n",
              "      <td>Masculino</td>\n",
              "    </tr>\n",
              "    <tr>\n",
              "      <th>2</th>\n",
              "      <td>0.077316</td>\n",
              "      <td>0.083829</td>\n",
              "      <td>0.036718</td>\n",
              "      <td>0.008701</td>\n",
              "      <td>0.131908</td>\n",
              "      <td>0.123207</td>\n",
              "      <td>307.571.545.800.584</td>\n",
              "      <td>1.024.927.704.721</td>\n",
              "      <td>0.846389</td>\n",
              "      <td>0.478905</td>\n",
              "      <td>...</td>\n",
              "      <td>0.0773155026958227</td>\n",
              "      <td>0.0987062615673936</td>\n",
              "      <td>0.0156555772994129</td>\n",
              "      <td>0.271186440677966</td>\n",
              "      <td>0.00799005681818182</td>\n",
              "      <td>0.007812</td>\n",
              "      <td>0.015625</td>\n",
              "      <td>0.0078125</td>\n",
              "      <td>0.046512</td>\n",
              "      <td>Masculino</td>\n",
              "    </tr>\n",
              "    <tr>\n",
              "      <th>3</th>\n",
              "      <td>0.151228</td>\n",
              "      <td>0.072111</td>\n",
              "      <td>0.158011</td>\n",
              "      <td>0.096582</td>\n",
              "      <td>0.207955</td>\n",
              "      <td>0.111374</td>\n",
              "      <td>123.283.127.554.372</td>\n",
              "      <td>417.729.621.025.317</td>\n",
              "      <td>0.963322</td>\n",
              "      <td>0.727232</td>\n",
              "      <td>...</td>\n",
              "      <td>0.151228091724635</td>\n",
              "      <td>0.0889648485504597</td>\n",
              "      <td>0.017797552836485</td>\n",
              "      <td>0.25</td>\n",
              "      <td>0.201497395833333</td>\n",
              "      <td>0.007812</td>\n",
              "      <td>0.5625</td>\n",
              "      <td>0.5546875</td>\n",
              "      <td>0.247119</td>\n",
              "      <td>Masculino</td>\n",
              "    </tr>\n",
              "    <tr>\n",
              "      <th>4</th>\n",
              "      <td>0.135120</td>\n",
              "      <td>0.079146</td>\n",
              "      <td>0.124656</td>\n",
              "      <td>0.078720</td>\n",
              "      <td>0.206045</td>\n",
              "      <td>0.127325</td>\n",
              "      <td>110.117.366.551.545</td>\n",
              "      <td>43.337.131.547.091</td>\n",
              "      <td>0.971955</td>\n",
              "      <td>0.783568</td>\n",
              "      <td>...</td>\n",
              "      <td>0.135120387296677</td>\n",
              "      <td>0.106397844620363</td>\n",
              "      <td>0.0169312169312169</td>\n",
              "      <td>0.266666666666667</td>\n",
              "      <td>0.7128125</td>\n",
              "      <td>0.007812</td>\n",
              "      <td>5.484.375</td>\n",
              "      <td>54.765.625</td>\n",
              "      <td>0.208274</td>\n",
              "      <td>Masculino</td>\n",
              "    </tr>\n",
              "  </tbody>\n",
              "</table>\n",
              "<p>5 rows × 21 columns</p>\n",
              "</div>\n",
              "      <button class=\"colab-df-convert\" onclick=\"convertToInteractive('df-5e4d23f4-337d-4e6e-8325-cbbb90b35fb6')\"\n",
              "              title=\"Convert this dataframe to an interactive table.\"\n",
              "              style=\"display:none;\">\n",
              "        \n",
              "  <svg xmlns=\"http://www.w3.org/2000/svg\" height=\"24px\"viewBox=\"0 0 24 24\"\n",
              "       width=\"24px\">\n",
              "    <path d=\"M0 0h24v24H0V0z\" fill=\"none\"/>\n",
              "    <path d=\"M18.56 5.44l.94 2.06.94-2.06 2.06-.94-2.06-.94-.94-2.06-.94 2.06-2.06.94zm-11 1L8.5 8.5l.94-2.06 2.06-.94-2.06-.94L8.5 2.5l-.94 2.06-2.06.94zm10 10l.94 2.06.94-2.06 2.06-.94-2.06-.94-.94-2.06-.94 2.06-2.06.94z\"/><path d=\"M17.41 7.96l-1.37-1.37c-.4-.4-.92-.59-1.43-.59-.52 0-1.04.2-1.43.59L10.3 9.45l-7.72 7.72c-.78.78-.78 2.05 0 2.83L4 21.41c.39.39.9.59 1.41.59.51 0 1.02-.2 1.41-.59l7.78-7.78 2.81-2.81c.8-.78.8-2.07 0-2.86zM5.41 20L4 18.59l7.72-7.72 1.47 1.35L5.41 20z\"/>\n",
              "  </svg>\n",
              "      </button>\n",
              "      \n",
              "  <style>\n",
              "    .colab-df-container {\n",
              "      display:flex;\n",
              "      flex-wrap:wrap;\n",
              "      gap: 12px;\n",
              "    }\n",
              "\n",
              "    .colab-df-convert {\n",
              "      background-color: #E8F0FE;\n",
              "      border: none;\n",
              "      border-radius: 50%;\n",
              "      cursor: pointer;\n",
              "      display: none;\n",
              "      fill: #1967D2;\n",
              "      height: 32px;\n",
              "      padding: 0 0 0 0;\n",
              "      width: 32px;\n",
              "    }\n",
              "\n",
              "    .colab-df-convert:hover {\n",
              "      background-color: #E2EBFA;\n",
              "      box-shadow: 0px 1px 2px rgba(60, 64, 67, 0.3), 0px 1px 3px 1px rgba(60, 64, 67, 0.15);\n",
              "      fill: #174EA6;\n",
              "    }\n",
              "\n",
              "    [theme=dark] .colab-df-convert {\n",
              "      background-color: #3B4455;\n",
              "      fill: #D2E3FC;\n",
              "    }\n",
              "\n",
              "    [theme=dark] .colab-df-convert:hover {\n",
              "      background-color: #434B5C;\n",
              "      box-shadow: 0px 1px 3px 1px rgba(0, 0, 0, 0.15);\n",
              "      filter: drop-shadow(0px 1px 2px rgba(0, 0, 0, 0.3));\n",
              "      fill: #FFFFFF;\n",
              "    }\n",
              "  </style>\n",
              "\n",
              "      <script>\n",
              "        const buttonEl =\n",
              "          document.querySelector('#df-5e4d23f4-337d-4e6e-8325-cbbb90b35fb6 button.colab-df-convert');\n",
              "        buttonEl.style.display =\n",
              "          google.colab.kernel.accessAllowed ? 'block' : 'none';\n",
              "\n",
              "        async function convertToInteractive(key) {\n",
              "          const element = document.querySelector('#df-5e4d23f4-337d-4e6e-8325-cbbb90b35fb6');\n",
              "          const dataTable =\n",
              "            await google.colab.kernel.invokeFunction('convertToInteractive',\n",
              "                                                     [key], {});\n",
              "          if (!dataTable) return;\n",
              "\n",
              "          const docLinkHtml = 'Like what you see? Visit the ' +\n",
              "            '<a target=\"_blank\" href=https://colab.research.google.com/notebooks/data_table.ipynb>data table notebook</a>'\n",
              "            + ' to learn more about interactive tables.';\n",
              "          element.innerHTML = '';\n",
              "          dataTable['output_type'] = 'display_data';\n",
              "          await google.colab.output.renderOutput(dataTable, element);\n",
              "          const docLink = document.createElement('div');\n",
              "          docLink.innerHTML = docLinkHtml;\n",
              "          element.appendChild(docLink);\n",
              "        }\n",
              "      </script>\n",
              "    </div>\n",
              "  </div>\n",
              "  "
            ]
          },
          "metadata": {},
          "execution_count": 346
        }
      ]
    },
    {
      "cell_type": "code",
      "source": [
        "voces.tail()"
      ],
      "metadata": {
        "colab": {
          "base_uri": "https://localhost:8080/",
          "height": 300
        },
        "id": "Ep8epzeXZraA",
        "outputId": "6553fb43-684e-46af-eb83-b3fb50616db9"
      },
      "execution_count": null,
      "outputs": [
        {
          "output_type": "execute_result",
          "data": {
            "text/plain": [
              "      meanfreq        sd    median       Q25       Q75       IQR  \\\n",
              "3163  0.131884  0.084734  0.153707  0.049285  0.201144  0.151859   \n",
              "3164  0.116221  0.089221  0.076758  0.042718  0.204911  0.162193   \n",
              "3165  0.142056  0.095798  0.183731  0.033424  0.224360  0.190936   \n",
              "3166  0.143659  0.090628  0.184976  0.043508  0.219943  0.176435   \n",
              "3167  0.165509  0.092884  0.183044  0.070072  0.250827  0.180756   \n",
              "\n",
              "                     skew                 kurt    sp.ent       sfm  ...  \\\n",
              "3163  176.212.855.902.146  663.038.301.533.104  0.962934  0.763182  ...   \n",
              "3164    0.693730265800808  250.395.446.908.969  0.960716  0.709570  ...   \n",
              "3165   18.765.016.261.382  660.450.859.443.523  0.946854  0.654196  ...   \n",
              "3166  159.106.489.452.459  538.829.754.263.834  0.950436  0.675470  ...   \n",
              "3167  170.502.911.922.022  576.911.536.636.857  0.938829  0.601529  ...   \n",
              "\n",
              "               centroid            meanfun              minfun  \\\n",
              "3163  0.131883734383811     0.182789590594  0.0837696335078534   \n",
              "3164  0.116220922114276  0.188979665912333  0.0344086021505376   \n",
              "3165  0.142056255712406  0.209917676760527  0.0395061728395062   \n",
              "3166  0.143658744830027  0.172374995915133  0.0344827586206897   \n",
              "3167  0.165508946001837  0.185606931233589  0.0622568093385214   \n",
              "\n",
              "                 maxfun            meandom    mindom      maxdom     dfrange  \\\n",
              "3163  0.262295081967213  0.832899305555556  0.007812  42.109.375   4.203.125   \n",
              "3164  0.275862068965517  0.909855769230769  0.039062  36.796.875   3.640.625   \n",
              "3165  0.275862068965517  0.494270833333333  0.007812      29.375  29.296.875   \n",
              "3166               0.25  0.791360294117647  0.007812     359.375  35.859.375   \n",
              "3167  0.271186440677966  0.227022058823529  0.007812   0.5546875    0.546875   \n",
              "\n",
              "       modindx    genero  \n",
              "3163  0.161929  Femenino  \n",
              "3164  0.277897  Femenino  \n",
              "3165  0.194759  Femenino  \n",
              "3166  0.311002  Femenino  \n",
              "3167  0.350000  Femenino  \n",
              "\n",
              "[5 rows x 21 columns]"
            ],
            "text/html": [
              "\n",
              "  <div id=\"df-472e72e7-3083-4e88-ab0d-6d1f7b8a5b54\">\n",
              "    <div class=\"colab-df-container\">\n",
              "      <div>\n",
              "<style scoped>\n",
              "    .dataframe tbody tr th:only-of-type {\n",
              "        vertical-align: middle;\n",
              "    }\n",
              "\n",
              "    .dataframe tbody tr th {\n",
              "        vertical-align: top;\n",
              "    }\n",
              "\n",
              "    .dataframe thead th {\n",
              "        text-align: right;\n",
              "    }\n",
              "</style>\n",
              "<table border=\"1\" class=\"dataframe\">\n",
              "  <thead>\n",
              "    <tr style=\"text-align: right;\">\n",
              "      <th></th>\n",
              "      <th>meanfreq</th>\n",
              "      <th>sd</th>\n",
              "      <th>median</th>\n",
              "      <th>Q25</th>\n",
              "      <th>Q75</th>\n",
              "      <th>IQR</th>\n",
              "      <th>skew</th>\n",
              "      <th>kurt</th>\n",
              "      <th>sp.ent</th>\n",
              "      <th>sfm</th>\n",
              "      <th>...</th>\n",
              "      <th>centroid</th>\n",
              "      <th>meanfun</th>\n",
              "      <th>minfun</th>\n",
              "      <th>maxfun</th>\n",
              "      <th>meandom</th>\n",
              "      <th>mindom</th>\n",
              "      <th>maxdom</th>\n",
              "      <th>dfrange</th>\n",
              "      <th>modindx</th>\n",
              "      <th>genero</th>\n",
              "    </tr>\n",
              "  </thead>\n",
              "  <tbody>\n",
              "    <tr>\n",
              "      <th>3163</th>\n",
              "      <td>0.131884</td>\n",
              "      <td>0.084734</td>\n",
              "      <td>0.153707</td>\n",
              "      <td>0.049285</td>\n",
              "      <td>0.201144</td>\n",
              "      <td>0.151859</td>\n",
              "      <td>176.212.855.902.146</td>\n",
              "      <td>663.038.301.533.104</td>\n",
              "      <td>0.962934</td>\n",
              "      <td>0.763182</td>\n",
              "      <td>...</td>\n",
              "      <td>0.131883734383811</td>\n",
              "      <td>0.182789590594</td>\n",
              "      <td>0.0837696335078534</td>\n",
              "      <td>0.262295081967213</td>\n",
              "      <td>0.832899305555556</td>\n",
              "      <td>0.007812</td>\n",
              "      <td>42.109.375</td>\n",
              "      <td>4.203.125</td>\n",
              "      <td>0.161929</td>\n",
              "      <td>Femenino</td>\n",
              "    </tr>\n",
              "    <tr>\n",
              "      <th>3164</th>\n",
              "      <td>0.116221</td>\n",
              "      <td>0.089221</td>\n",
              "      <td>0.076758</td>\n",
              "      <td>0.042718</td>\n",
              "      <td>0.204911</td>\n",
              "      <td>0.162193</td>\n",
              "      <td>0.693730265800808</td>\n",
              "      <td>250.395.446.908.969</td>\n",
              "      <td>0.960716</td>\n",
              "      <td>0.709570</td>\n",
              "      <td>...</td>\n",
              "      <td>0.116220922114276</td>\n",
              "      <td>0.188979665912333</td>\n",
              "      <td>0.0344086021505376</td>\n",
              "      <td>0.275862068965517</td>\n",
              "      <td>0.909855769230769</td>\n",
              "      <td>0.039062</td>\n",
              "      <td>36.796.875</td>\n",
              "      <td>3.640.625</td>\n",
              "      <td>0.277897</td>\n",
              "      <td>Femenino</td>\n",
              "    </tr>\n",
              "    <tr>\n",
              "      <th>3165</th>\n",
              "      <td>0.142056</td>\n",
              "      <td>0.095798</td>\n",
              "      <td>0.183731</td>\n",
              "      <td>0.033424</td>\n",
              "      <td>0.224360</td>\n",
              "      <td>0.190936</td>\n",
              "      <td>18.765.016.261.382</td>\n",
              "      <td>660.450.859.443.523</td>\n",
              "      <td>0.946854</td>\n",
              "      <td>0.654196</td>\n",
              "      <td>...</td>\n",
              "      <td>0.142056255712406</td>\n",
              "      <td>0.209917676760527</td>\n",
              "      <td>0.0395061728395062</td>\n",
              "      <td>0.275862068965517</td>\n",
              "      <td>0.494270833333333</td>\n",
              "      <td>0.007812</td>\n",
              "      <td>29.375</td>\n",
              "      <td>29.296.875</td>\n",
              "      <td>0.194759</td>\n",
              "      <td>Femenino</td>\n",
              "    </tr>\n",
              "    <tr>\n",
              "      <th>3166</th>\n",
              "      <td>0.143659</td>\n",
              "      <td>0.090628</td>\n",
              "      <td>0.184976</td>\n",
              "      <td>0.043508</td>\n",
              "      <td>0.219943</td>\n",
              "      <td>0.176435</td>\n",
              "      <td>159.106.489.452.459</td>\n",
              "      <td>538.829.754.263.834</td>\n",
              "      <td>0.950436</td>\n",
              "      <td>0.675470</td>\n",
              "      <td>...</td>\n",
              "      <td>0.143658744830027</td>\n",
              "      <td>0.172374995915133</td>\n",
              "      <td>0.0344827586206897</td>\n",
              "      <td>0.25</td>\n",
              "      <td>0.791360294117647</td>\n",
              "      <td>0.007812</td>\n",
              "      <td>359.375</td>\n",
              "      <td>35.859.375</td>\n",
              "      <td>0.311002</td>\n",
              "      <td>Femenino</td>\n",
              "    </tr>\n",
              "    <tr>\n",
              "      <th>3167</th>\n",
              "      <td>0.165509</td>\n",
              "      <td>0.092884</td>\n",
              "      <td>0.183044</td>\n",
              "      <td>0.070072</td>\n",
              "      <td>0.250827</td>\n",
              "      <td>0.180756</td>\n",
              "      <td>170.502.911.922.022</td>\n",
              "      <td>576.911.536.636.857</td>\n",
              "      <td>0.938829</td>\n",
              "      <td>0.601529</td>\n",
              "      <td>...</td>\n",
              "      <td>0.165508946001837</td>\n",
              "      <td>0.185606931233589</td>\n",
              "      <td>0.0622568093385214</td>\n",
              "      <td>0.271186440677966</td>\n",
              "      <td>0.227022058823529</td>\n",
              "      <td>0.007812</td>\n",
              "      <td>0.5546875</td>\n",
              "      <td>0.546875</td>\n",
              "      <td>0.350000</td>\n",
              "      <td>Femenino</td>\n",
              "    </tr>\n",
              "  </tbody>\n",
              "</table>\n",
              "<p>5 rows × 21 columns</p>\n",
              "</div>\n",
              "      <button class=\"colab-df-convert\" onclick=\"convertToInteractive('df-472e72e7-3083-4e88-ab0d-6d1f7b8a5b54')\"\n",
              "              title=\"Convert this dataframe to an interactive table.\"\n",
              "              style=\"display:none;\">\n",
              "        \n",
              "  <svg xmlns=\"http://www.w3.org/2000/svg\" height=\"24px\"viewBox=\"0 0 24 24\"\n",
              "       width=\"24px\">\n",
              "    <path d=\"M0 0h24v24H0V0z\" fill=\"none\"/>\n",
              "    <path d=\"M18.56 5.44l.94 2.06.94-2.06 2.06-.94-2.06-.94-.94-2.06-.94 2.06-2.06.94zm-11 1L8.5 8.5l.94-2.06 2.06-.94-2.06-.94L8.5 2.5l-.94 2.06-2.06.94zm10 10l.94 2.06.94-2.06 2.06-.94-2.06-.94-.94-2.06-.94 2.06-2.06.94z\"/><path d=\"M17.41 7.96l-1.37-1.37c-.4-.4-.92-.59-1.43-.59-.52 0-1.04.2-1.43.59L10.3 9.45l-7.72 7.72c-.78.78-.78 2.05 0 2.83L4 21.41c.39.39.9.59 1.41.59.51 0 1.02-.2 1.41-.59l7.78-7.78 2.81-2.81c.8-.78.8-2.07 0-2.86zM5.41 20L4 18.59l7.72-7.72 1.47 1.35L5.41 20z\"/>\n",
              "  </svg>\n",
              "      </button>\n",
              "      \n",
              "  <style>\n",
              "    .colab-df-container {\n",
              "      display:flex;\n",
              "      flex-wrap:wrap;\n",
              "      gap: 12px;\n",
              "    }\n",
              "\n",
              "    .colab-df-convert {\n",
              "      background-color: #E8F0FE;\n",
              "      border: none;\n",
              "      border-radius: 50%;\n",
              "      cursor: pointer;\n",
              "      display: none;\n",
              "      fill: #1967D2;\n",
              "      height: 32px;\n",
              "      padding: 0 0 0 0;\n",
              "      width: 32px;\n",
              "    }\n",
              "\n",
              "    .colab-df-convert:hover {\n",
              "      background-color: #E2EBFA;\n",
              "      box-shadow: 0px 1px 2px rgba(60, 64, 67, 0.3), 0px 1px 3px 1px rgba(60, 64, 67, 0.15);\n",
              "      fill: #174EA6;\n",
              "    }\n",
              "\n",
              "    [theme=dark] .colab-df-convert {\n",
              "      background-color: #3B4455;\n",
              "      fill: #D2E3FC;\n",
              "    }\n",
              "\n",
              "    [theme=dark] .colab-df-convert:hover {\n",
              "      background-color: #434B5C;\n",
              "      box-shadow: 0px 1px 3px 1px rgba(0, 0, 0, 0.15);\n",
              "      filter: drop-shadow(0px 1px 2px rgba(0, 0, 0, 0.3));\n",
              "      fill: #FFFFFF;\n",
              "    }\n",
              "  </style>\n",
              "\n",
              "      <script>\n",
              "        const buttonEl =\n",
              "          document.querySelector('#df-472e72e7-3083-4e88-ab0d-6d1f7b8a5b54 button.colab-df-convert');\n",
              "        buttonEl.style.display =\n",
              "          google.colab.kernel.accessAllowed ? 'block' : 'none';\n",
              "\n",
              "        async function convertToInteractive(key) {\n",
              "          const element = document.querySelector('#df-472e72e7-3083-4e88-ab0d-6d1f7b8a5b54');\n",
              "          const dataTable =\n",
              "            await google.colab.kernel.invokeFunction('convertToInteractive',\n",
              "                                                     [key], {});\n",
              "          if (!dataTable) return;\n",
              "\n",
              "          const docLinkHtml = 'Like what you see? Visit the ' +\n",
              "            '<a target=\"_blank\" href=https://colab.research.google.com/notebooks/data_table.ipynb>data table notebook</a>'\n",
              "            + ' to learn more about interactive tables.';\n",
              "          element.innerHTML = '';\n",
              "          dataTable['output_type'] = 'display_data';\n",
              "          await google.colab.output.renderOutput(dataTable, element);\n",
              "          const docLink = document.createElement('div');\n",
              "          docLink.innerHTML = docLinkHtml;\n",
              "          element.appendChild(docLink);\n",
              "        }\n",
              "      </script>\n",
              "    </div>\n",
              "  </div>\n",
              "  "
            ]
          },
          "metadata": {},
          "execution_count": 347
        }
      ]
    },
    {
      "cell_type": "code",
      "source": [
        "#Valores faltantes y tipos de variables"
      ],
      "metadata": {
        "id": "EPAIK1JS2meq"
      },
      "execution_count": null,
      "outputs": []
    },
    {
      "cell_type": "code",
      "source": [
        "print('Missing entries:', voces.isnull().sum().sum())\n",
        "print('\\n')"
      ],
      "metadata": {
        "id": "vpQaQ_Xxz8Ha",
        "colab": {
          "base_uri": "https://localhost:8080/"
        },
        "outputId": "d1eec133-1b1e-4382-cae3-f38a9a38df6c"
      },
      "execution_count": null,
      "outputs": [
        {
          "output_type": "stream",
          "name": "stdout",
          "text": [
            "Missing entries: 19\n",
            "\n",
            "\n"
          ]
        }
      ]
    },
    {
      "cell_type": "code",
      "source": [
        "voces.info()\n",
        "print('\\n')"
      ],
      "metadata": {
        "id": "gHxiEzyI0EvS",
        "colab": {
          "base_uri": "https://localhost:8080/"
        },
        "outputId": "5a7097aa-a063-4f0a-aa29-35556943426d"
      },
      "execution_count": null,
      "outputs": [
        {
          "output_type": "stream",
          "name": "stdout",
          "text": [
            "<class 'pandas.core.frame.DataFrame'>\n",
            "RangeIndex: 3168 entries, 0 to 3167\n",
            "Data columns (total 21 columns):\n",
            " #   Column    Non-Null Count  Dtype  \n",
            "---  ------    --------------  -----  \n",
            " 0   meanfreq  3168 non-null   float64\n",
            " 1   sd        3166 non-null   float64\n",
            " 2   median    3168 non-null   float64\n",
            " 3   Q25       3168 non-null   float64\n",
            " 4   Q75       3166 non-null   float64\n",
            " 5   IQR       3167 non-null   float64\n",
            " 6   skew      3168 non-null   object \n",
            " 7   kurt      3168 non-null   object \n",
            " 8   sp.ent    3167 non-null   float64\n",
            " 9   sfm       3168 non-null   float64\n",
            " 10  mode      3167 non-null   object \n",
            " 11  centroid  3168 non-null   object \n",
            " 12  meanfun   3168 non-null   object \n",
            " 13  minfun    3168 non-null   object \n",
            " 14  maxfun    3168 non-null   object \n",
            " 15  meandom   3168 non-null   object \n",
            " 16  mindom    3168 non-null   float64\n",
            " 17  maxdom    3161 non-null   object \n",
            " 18  dfrange   3167 non-null   object \n",
            " 19  modindx   3168 non-null   float64\n",
            " 20  genero    3164 non-null   object \n",
            "dtypes: float64(10), object(11)\n",
            "memory usage: 519.9+ KB\n",
            "\n",
            "\n"
          ]
        }
      ]
    },
    {
      "cell_type": "code",
      "source": [
        "voces.isnull(). sum()"
      ],
      "metadata": {
        "id": "829Ov7zypEQ6",
        "colab": {
          "base_uri": "https://localhost:8080/"
        },
        "outputId": "d3023990-4bba-476b-b647-78966563bee5"
      },
      "execution_count": null,
      "outputs": [
        {
          "output_type": "execute_result",
          "data": {
            "text/plain": [
              "meanfreq    0\n",
              "sd          2\n",
              "median      0\n",
              "Q25         0\n",
              "Q75         2\n",
              "IQR         1\n",
              "skew        0\n",
              "kurt        0\n",
              "sp.ent      1\n",
              "sfm         0\n",
              "mode        1\n",
              "centroid    0\n",
              "meanfun     0\n",
              "minfun      0\n",
              "maxfun      0\n",
              "meandom     0\n",
              "mindom      0\n",
              "maxdom      7\n",
              "dfrange     1\n",
              "modindx     0\n",
              "genero      4\n",
              "dtype: int64"
            ]
          },
          "metadata": {},
          "execution_count": 351
        }
      ]
    },
    {
      "cell_type": "code",
      "source": [
        "#En la columna sd hay 2 datos nulos, en la columna Q75 hay 2, en la columna IQR hay 1, en la columna sp.ent hay 1, en la columna mode hay 1, en la columna maxodm hay 7, en la columna dfrange hay 1 y en la columna genero hay 4"
      ],
      "metadata": {
        "id": "6ItefP7dXunm"
      },
      "execution_count": null,
      "outputs": []
    },
    {
      "cell_type": "code",
      "source": [
        "#El porcentaje de valores nulos en cada caso es inferior al 5%, razon por la cual, la recomendacion es eliminarlos"
      ],
      "metadata": {
        "id": "2NTC72w-w20U"
      },
      "execution_count": null,
      "outputs": []
    },
    {
      "cell_type": "code",
      "source": [
        "#Cambiar tipos de variable de object a float y eliminar valores nulos"
      ],
      "metadata": {
        "id": "WFOz9NMBRCqs"
      },
      "execution_count": null,
      "outputs": []
    },
    {
      "cell_type": "code",
      "source": [
        "#Variable SD\n",
        "#La variable SD está en formato float, por lo que no se debe cambiar de formato, como unicamente tiene 2 variables nulas, se decide eliminarlas"
      ],
      "metadata": {
        "id": "3y3-UY9pp2hE"
      },
      "execution_count": null,
      "outputs": []
    },
    {
      "cell_type": "code",
      "source": [
        "voces = voces.dropna(subset = [\"sd\"])"
      ],
      "metadata": {
        "id": "7m1AXY-AqHg6"
      },
      "execution_count": null,
      "outputs": []
    },
    {
      "cell_type": "code",
      "source": [
        "voces[\"sd\"].isnull().sum()"
      ],
      "metadata": {
        "colab": {
          "base_uri": "https://localhost:8080/"
        },
        "id": "kCNi81fCqc3f",
        "outputId": "aacca562-5f01-4956-9ce9-0890cc0edd78"
      },
      "execution_count": null,
      "outputs": [
        {
          "output_type": "execute_result",
          "data": {
            "text/plain": [
              "0"
            ]
          },
          "metadata": {},
          "execution_count": 357
        }
      ]
    },
    {
      "cell_type": "code",
      "source": [
        "#Ya la variable SD no contiene valores nulos"
      ],
      "metadata": {
        "id": "8S_FElexqoGd"
      },
      "execution_count": null,
      "outputs": []
    },
    {
      "cell_type": "code",
      "source": [
        "#Variable Q75\n",
        "#La variable Q75 está en formato float, por lo que no se debe hacer cambio de variable, como unicamente contiene 2 valores nulos la decision es eliminarlos"
      ],
      "metadata": {
        "id": "wLSO63i2qtVO"
      },
      "execution_count": null,
      "outputs": []
    },
    {
      "cell_type": "code",
      "source": [
        "voces = voces.dropna(subset = [\"Q75\"])"
      ],
      "metadata": {
        "id": "73Y1hAVPq-b2"
      },
      "execution_count": null,
      "outputs": []
    },
    {
      "cell_type": "code",
      "source": [
        "voces[\"Q75\"].isnull().sum()"
      ],
      "metadata": {
        "colab": {
          "base_uri": "https://localhost:8080/"
        },
        "id": "8JKpCx3FrSUk",
        "outputId": "a83ff577-8e2c-4301-94ad-adfd8b8b4216"
      },
      "execution_count": null,
      "outputs": [
        {
          "output_type": "execute_result",
          "data": {
            "text/plain": [
              "0"
            ]
          },
          "metadata": {},
          "execution_count": 361
        }
      ]
    },
    {
      "cell_type": "code",
      "source": [
        "#La variable Q75 ya no presenta valores nulos"
      ],
      "metadata": {
        "id": "oP4WHHc6rWOF"
      },
      "execution_count": null,
      "outputs": []
    },
    {
      "cell_type": "code",
      "source": [
        "#Variable IQR\n",
        "#La variable IQR está en formato float por lo que no se debe hacer cambio de formato. Como unicamente presenta 1 valor nulo, se decide eliminarlo"
      ],
      "metadata": {
        "id": "AhXLh_Zjrgqt"
      },
      "execution_count": null,
      "outputs": []
    },
    {
      "cell_type": "code",
      "source": [
        "voces = voces.dropna(subset = [\"IQR\"])"
      ],
      "metadata": {
        "id": "FM4HDzEer2_4"
      },
      "execution_count": null,
      "outputs": []
    },
    {
      "cell_type": "code",
      "source": [
        "voces[\"IQR\"].isnull().sum()"
      ],
      "metadata": {
        "colab": {
          "base_uri": "https://localhost:8080/"
        },
        "id": "uaySEElSr6_D",
        "outputId": "eed28bf6-c371-4ff3-8943-005fba1a0ecc"
      },
      "execution_count": null,
      "outputs": [
        {
          "output_type": "execute_result",
          "data": {
            "text/plain": [
              "0"
            ]
          },
          "metadata": {},
          "execution_count": 365
        }
      ]
    },
    {
      "cell_type": "code",
      "source": [
        "#La variable IQR ya no presenta valores nulos"
      ],
      "metadata": {
        "id": "3bix5ZPdr-rg"
      },
      "execution_count": null,
      "outputs": []
    },
    {
      "cell_type": "code",
      "source": [
        "#Valores skew y kurt\n",
        "#Los valores skew y kurt no presentan valores nulos, pero debemos cambiar el tipo de variable a float"
      ],
      "metadata": {
        "id": "G5RjjrD1Exh4"
      },
      "execution_count": null,
      "outputs": []
    },
    {
      "cell_type": "code",
      "source": [
        "def remove_dots(dot_str):\n",
        "    return float(dot_str.replace(\".\",\"\"))/(10**15)\n",
        "\n",
        "voces[\"kurt\"]=voces[\"kurt\"].apply(remove_dots)\n",
        "voces[\"skew\"]=voces[\"skew\"].apply(remove_dots)"
      ],
      "metadata": {
        "id": "mczfgBAlFiAN"
      },
      "execution_count": null,
      "outputs": []
    },
    {
      "cell_type": "code",
      "source": [
        "#Variable sp.ent\n",
        "#La variable sp.ent está en formato float por lo que no se debe hacer cambio de formato de variable, como unicamente presenta un valor nulo, la decisiones es eliminarlo"
      ],
      "metadata": {
        "id": "Aq4TGVbtsDT8"
      },
      "execution_count": null,
      "outputs": []
    },
    {
      "cell_type": "code",
      "source": [
        "voces = voces.dropna(subset = [\"sp.ent\"])"
      ],
      "metadata": {
        "id": "QcQ6qxha2Iq-"
      },
      "execution_count": null,
      "outputs": []
    },
    {
      "cell_type": "code",
      "source": [
        "voces[\"sp.ent\"].isnull().sum()"
      ],
      "metadata": {
        "colab": {
          "base_uri": "https://localhost:8080/"
        },
        "id": "SVJ3yO6V2NuY",
        "outputId": "2e03da59-ef5a-48d6-bb3c-03f231bc532b"
      },
      "execution_count": null,
      "outputs": [
        {
          "output_type": "execute_result",
          "data": {
            "text/plain": [
              "0"
            ]
          },
          "metadata": {},
          "execution_count": 371
        }
      ]
    },
    {
      "cell_type": "code",
      "source": [
        "#La variable sp.ent ya no presenta valores nulos"
      ],
      "metadata": {
        "id": "O8wp20Hn2RpY"
      },
      "execution_count": null,
      "outputs": []
    },
    {
      "cell_type": "code",
      "source": [
        "#Variable mode\n",
        "#La variable mode presenta un valor nulo, por lo que se decide eliminarlo. Ademas, esta en formato object, por lo que debe hacerse cambio de formato a tipo float"
      ],
      "metadata": {
        "id": "64X4L2F9sUSw"
      },
      "execution_count": null,
      "outputs": []
    },
    {
      "cell_type": "code",
      "source": [
        "voces = voces.dropna(subset = [\"mode\"])"
      ],
      "metadata": {
        "id": "C4qbYZMbK4Gr"
      },
      "execution_count": null,
      "outputs": []
    },
    {
      "cell_type": "code",
      "source": [
        "voces[\"mode\"].isnull().sum()"
      ],
      "metadata": {
        "colab": {
          "base_uri": "https://localhost:8080/"
        },
        "id": "QPIBvbFXLDcr",
        "outputId": "696c6a91-2ea1-442b-ffc2-5671a2ee4771"
      },
      "execution_count": null,
      "outputs": [
        {
          "output_type": "execute_result",
          "data": {
            "text/plain": [
              "0"
            ]
          },
          "metadata": {},
          "execution_count": 375
        }
      ]
    },
    {
      "cell_type": "code",
      "source": [
        "#La variable mode ya no presenta valores nulos"
      ],
      "metadata": {
        "id": "EjGr9Uy9LGdU"
      },
      "execution_count": null,
      "outputs": []
    },
    {
      "cell_type": "code",
      "source": [
        "voces[\"mode\"] = voces[\"mode\"].astype(\"float\")"
      ],
      "metadata": {
        "id": "y0A40nCeSe1l",
        "colab": {
          "base_uri": "https://localhost:8080/",
          "height": 312
        },
        "outputId": "ad0d1fbf-f3a4-4530-d5c8-eedd0417035e"
      },
      "execution_count": null,
      "outputs": [
        {
          "output_type": "error",
          "ename": "ValueError",
          "evalue": "ignored",
          "traceback": [
            "\u001b[0;31m---------------------------------------------------------------------------\u001b[0m",
            "\u001b[0;31mValueError\u001b[0m                                Traceback (most recent call last)",
            "\u001b[0;32m<ipython-input-377-b83410fa44d6>\u001b[0m in \u001b[0;36m<module>\u001b[0;34m()\u001b[0m\n\u001b[0;32m----> 1\u001b[0;31m \u001b[0mvoces\u001b[0m\u001b[0;34m[\u001b[0m\u001b[0;34m\"mode\"\u001b[0m\u001b[0;34m]\u001b[0m \u001b[0;34m=\u001b[0m \u001b[0mvoces\u001b[0m\u001b[0;34m[\u001b[0m\u001b[0;34m\"mode\"\u001b[0m\u001b[0;34m]\u001b[0m\u001b[0;34m.\u001b[0m\u001b[0mastype\u001b[0m\u001b[0;34m(\u001b[0m\u001b[0;34m\"float\"\u001b[0m\u001b[0;34m)\u001b[0m\u001b[0;34m\u001b[0m\u001b[0;34m\u001b[0m\u001b[0m\n\u001b[0m",
            "\u001b[0;32m/usr/local/lib/python3.7/dist-packages/pandas/core/generic.py\u001b[0m in \u001b[0;36mastype\u001b[0;34m(self, dtype, copy, errors)\u001b[0m\n\u001b[1;32m   5813\u001b[0m         \u001b[0;32melse\u001b[0m\u001b[0;34m:\u001b[0m\u001b[0;34m\u001b[0m\u001b[0;34m\u001b[0m\u001b[0m\n\u001b[1;32m   5814\u001b[0m             \u001b[0;31m# else, only a single dtype is given\u001b[0m\u001b[0;34m\u001b[0m\u001b[0;34m\u001b[0m\u001b[0;34m\u001b[0m\u001b[0m\n\u001b[0;32m-> 5815\u001b[0;31m             \u001b[0mnew_data\u001b[0m \u001b[0;34m=\u001b[0m \u001b[0mself\u001b[0m\u001b[0;34m.\u001b[0m\u001b[0m_mgr\u001b[0m\u001b[0;34m.\u001b[0m\u001b[0mastype\u001b[0m\u001b[0;34m(\u001b[0m\u001b[0mdtype\u001b[0m\u001b[0;34m=\u001b[0m\u001b[0mdtype\u001b[0m\u001b[0;34m,\u001b[0m \u001b[0mcopy\u001b[0m\u001b[0;34m=\u001b[0m\u001b[0mcopy\u001b[0m\u001b[0;34m,\u001b[0m \u001b[0merrors\u001b[0m\u001b[0;34m=\u001b[0m\u001b[0merrors\u001b[0m\u001b[0;34m)\u001b[0m\u001b[0;34m\u001b[0m\u001b[0;34m\u001b[0m\u001b[0m\n\u001b[0m\u001b[1;32m   5816\u001b[0m             \u001b[0;32mreturn\u001b[0m \u001b[0mself\u001b[0m\u001b[0;34m.\u001b[0m\u001b[0m_constructor\u001b[0m\u001b[0;34m(\u001b[0m\u001b[0mnew_data\u001b[0m\u001b[0;34m)\u001b[0m\u001b[0;34m.\u001b[0m\u001b[0m__finalize__\u001b[0m\u001b[0;34m(\u001b[0m\u001b[0mself\u001b[0m\u001b[0;34m,\u001b[0m \u001b[0mmethod\u001b[0m\u001b[0;34m=\u001b[0m\u001b[0;34m\"astype\"\u001b[0m\u001b[0;34m)\u001b[0m\u001b[0;34m\u001b[0m\u001b[0;34m\u001b[0m\u001b[0m\n\u001b[1;32m   5817\u001b[0m \u001b[0;34m\u001b[0m\u001b[0m\n",
            "\u001b[0;32m/usr/local/lib/python3.7/dist-packages/pandas/core/internals/managers.py\u001b[0m in \u001b[0;36mastype\u001b[0;34m(self, dtype, copy, errors)\u001b[0m\n\u001b[1;32m    416\u001b[0m \u001b[0;34m\u001b[0m\u001b[0m\n\u001b[1;32m    417\u001b[0m     \u001b[0;32mdef\u001b[0m \u001b[0mastype\u001b[0m\u001b[0;34m(\u001b[0m\u001b[0mself\u001b[0m\u001b[0;34m:\u001b[0m \u001b[0mT\u001b[0m\u001b[0;34m,\u001b[0m \u001b[0mdtype\u001b[0m\u001b[0;34m,\u001b[0m \u001b[0mcopy\u001b[0m\u001b[0;34m:\u001b[0m \u001b[0mbool\u001b[0m \u001b[0;34m=\u001b[0m \u001b[0;32mFalse\u001b[0m\u001b[0;34m,\u001b[0m \u001b[0merrors\u001b[0m\u001b[0;34m:\u001b[0m \u001b[0mstr\u001b[0m \u001b[0;34m=\u001b[0m \u001b[0;34m\"raise\"\u001b[0m\u001b[0;34m)\u001b[0m \u001b[0;34m->\u001b[0m \u001b[0mT\u001b[0m\u001b[0;34m:\u001b[0m\u001b[0;34m\u001b[0m\u001b[0;34m\u001b[0m\u001b[0m\n\u001b[0;32m--> 418\u001b[0;31m         \u001b[0;32mreturn\u001b[0m \u001b[0mself\u001b[0m\u001b[0;34m.\u001b[0m\u001b[0mapply\u001b[0m\u001b[0;34m(\u001b[0m\u001b[0;34m\"astype\"\u001b[0m\u001b[0;34m,\u001b[0m \u001b[0mdtype\u001b[0m\u001b[0;34m=\u001b[0m\u001b[0mdtype\u001b[0m\u001b[0;34m,\u001b[0m \u001b[0mcopy\u001b[0m\u001b[0;34m=\u001b[0m\u001b[0mcopy\u001b[0m\u001b[0;34m,\u001b[0m \u001b[0merrors\u001b[0m\u001b[0;34m=\u001b[0m\u001b[0merrors\u001b[0m\u001b[0;34m)\u001b[0m\u001b[0;34m\u001b[0m\u001b[0;34m\u001b[0m\u001b[0m\n\u001b[0m\u001b[1;32m    419\u001b[0m \u001b[0;34m\u001b[0m\u001b[0m\n\u001b[1;32m    420\u001b[0m     def convert(\n",
            "\u001b[0;32m/usr/local/lib/python3.7/dist-packages/pandas/core/internals/managers.py\u001b[0m in \u001b[0;36mapply\u001b[0;34m(self, f, align_keys, ignore_failures, **kwargs)\u001b[0m\n\u001b[1;32m    325\u001b[0m                     \u001b[0mapplied\u001b[0m \u001b[0;34m=\u001b[0m \u001b[0mb\u001b[0m\u001b[0;34m.\u001b[0m\u001b[0mapply\u001b[0m\u001b[0;34m(\u001b[0m\u001b[0mf\u001b[0m\u001b[0;34m,\u001b[0m \u001b[0;34m**\u001b[0m\u001b[0mkwargs\u001b[0m\u001b[0;34m)\u001b[0m\u001b[0;34m\u001b[0m\u001b[0;34m\u001b[0m\u001b[0m\n\u001b[1;32m    326\u001b[0m                 \u001b[0;32melse\u001b[0m\u001b[0;34m:\u001b[0m\u001b[0;34m\u001b[0m\u001b[0;34m\u001b[0m\u001b[0m\n\u001b[0;32m--> 327\u001b[0;31m                     \u001b[0mapplied\u001b[0m \u001b[0;34m=\u001b[0m \u001b[0mgetattr\u001b[0m\u001b[0;34m(\u001b[0m\u001b[0mb\u001b[0m\u001b[0;34m,\u001b[0m \u001b[0mf\u001b[0m\u001b[0;34m)\u001b[0m\u001b[0;34m(\u001b[0m\u001b[0;34m**\u001b[0m\u001b[0mkwargs\u001b[0m\u001b[0;34m)\u001b[0m\u001b[0;34m\u001b[0m\u001b[0;34m\u001b[0m\u001b[0m\n\u001b[0m\u001b[1;32m    328\u001b[0m             \u001b[0;32mexcept\u001b[0m \u001b[0;34m(\u001b[0m\u001b[0mTypeError\u001b[0m\u001b[0;34m,\u001b[0m \u001b[0mNotImplementedError\u001b[0m\u001b[0;34m)\u001b[0m\u001b[0;34m:\u001b[0m\u001b[0;34m\u001b[0m\u001b[0;34m\u001b[0m\u001b[0m\n\u001b[1;32m    329\u001b[0m                 \u001b[0;32mif\u001b[0m \u001b[0;32mnot\u001b[0m \u001b[0mignore_failures\u001b[0m\u001b[0;34m:\u001b[0m\u001b[0;34m\u001b[0m\u001b[0;34m\u001b[0m\u001b[0m\n",
            "\u001b[0;32m/usr/local/lib/python3.7/dist-packages/pandas/core/internals/blocks.py\u001b[0m in \u001b[0;36mastype\u001b[0;34m(self, dtype, copy, errors)\u001b[0m\n\u001b[1;32m    589\u001b[0m         \u001b[0mvalues\u001b[0m \u001b[0;34m=\u001b[0m \u001b[0mself\u001b[0m\u001b[0;34m.\u001b[0m\u001b[0mvalues\u001b[0m\u001b[0;34m\u001b[0m\u001b[0;34m\u001b[0m\u001b[0m\n\u001b[1;32m    590\u001b[0m \u001b[0;34m\u001b[0m\u001b[0m\n\u001b[0;32m--> 591\u001b[0;31m         \u001b[0mnew_values\u001b[0m \u001b[0;34m=\u001b[0m \u001b[0mastype_array_safe\u001b[0m\u001b[0;34m(\u001b[0m\u001b[0mvalues\u001b[0m\u001b[0;34m,\u001b[0m \u001b[0mdtype\u001b[0m\u001b[0;34m,\u001b[0m \u001b[0mcopy\u001b[0m\u001b[0;34m=\u001b[0m\u001b[0mcopy\u001b[0m\u001b[0;34m,\u001b[0m \u001b[0merrors\u001b[0m\u001b[0;34m=\u001b[0m\u001b[0merrors\u001b[0m\u001b[0;34m)\u001b[0m\u001b[0;34m\u001b[0m\u001b[0;34m\u001b[0m\u001b[0m\n\u001b[0m\u001b[1;32m    592\u001b[0m \u001b[0;34m\u001b[0m\u001b[0m\n\u001b[1;32m    593\u001b[0m         \u001b[0mnew_values\u001b[0m \u001b[0;34m=\u001b[0m \u001b[0mmaybe_coerce_values\u001b[0m\u001b[0;34m(\u001b[0m\u001b[0mnew_values\u001b[0m\u001b[0;34m)\u001b[0m\u001b[0;34m\u001b[0m\u001b[0;34m\u001b[0m\u001b[0m\n",
            "\u001b[0;32m/usr/local/lib/python3.7/dist-packages/pandas/core/dtypes/cast.py\u001b[0m in \u001b[0;36mastype_array_safe\u001b[0;34m(values, dtype, copy, errors)\u001b[0m\n\u001b[1;32m   1307\u001b[0m \u001b[0;34m\u001b[0m\u001b[0m\n\u001b[1;32m   1308\u001b[0m     \u001b[0;32mtry\u001b[0m\u001b[0;34m:\u001b[0m\u001b[0;34m\u001b[0m\u001b[0;34m\u001b[0m\u001b[0m\n\u001b[0;32m-> 1309\u001b[0;31m         \u001b[0mnew_values\u001b[0m \u001b[0;34m=\u001b[0m \u001b[0mastype_array\u001b[0m\u001b[0;34m(\u001b[0m\u001b[0mvalues\u001b[0m\u001b[0;34m,\u001b[0m \u001b[0mdtype\u001b[0m\u001b[0;34m,\u001b[0m \u001b[0mcopy\u001b[0m\u001b[0;34m=\u001b[0m\u001b[0mcopy\u001b[0m\u001b[0;34m)\u001b[0m\u001b[0;34m\u001b[0m\u001b[0;34m\u001b[0m\u001b[0m\n\u001b[0m\u001b[1;32m   1310\u001b[0m     \u001b[0;32mexcept\u001b[0m \u001b[0;34m(\u001b[0m\u001b[0mValueError\u001b[0m\u001b[0;34m,\u001b[0m \u001b[0mTypeError\u001b[0m\u001b[0;34m)\u001b[0m\u001b[0;34m:\u001b[0m\u001b[0;34m\u001b[0m\u001b[0;34m\u001b[0m\u001b[0m\n\u001b[1;32m   1311\u001b[0m         \u001b[0;31m# e.g. astype_nansafe can fail on object-dtype of strings\u001b[0m\u001b[0;34m\u001b[0m\u001b[0;34m\u001b[0m\u001b[0;34m\u001b[0m\u001b[0m\n",
            "\u001b[0;32m/usr/local/lib/python3.7/dist-packages/pandas/core/dtypes/cast.py\u001b[0m in \u001b[0;36mastype_array\u001b[0;34m(values, dtype, copy)\u001b[0m\n\u001b[1;32m   1255\u001b[0m \u001b[0;34m\u001b[0m\u001b[0m\n\u001b[1;32m   1256\u001b[0m     \u001b[0;32melse\u001b[0m\u001b[0;34m:\u001b[0m\u001b[0;34m\u001b[0m\u001b[0;34m\u001b[0m\u001b[0m\n\u001b[0;32m-> 1257\u001b[0;31m         \u001b[0mvalues\u001b[0m \u001b[0;34m=\u001b[0m \u001b[0mastype_nansafe\u001b[0m\u001b[0;34m(\u001b[0m\u001b[0mvalues\u001b[0m\u001b[0;34m,\u001b[0m \u001b[0mdtype\u001b[0m\u001b[0;34m,\u001b[0m \u001b[0mcopy\u001b[0m\u001b[0;34m=\u001b[0m\u001b[0mcopy\u001b[0m\u001b[0;34m)\u001b[0m\u001b[0;34m\u001b[0m\u001b[0;34m\u001b[0m\u001b[0m\n\u001b[0m\u001b[1;32m   1258\u001b[0m \u001b[0;34m\u001b[0m\u001b[0m\n\u001b[1;32m   1259\u001b[0m     \u001b[0;31m# in pandas we don't store numpy str dtypes, so convert to object\u001b[0m\u001b[0;34m\u001b[0m\u001b[0;34m\u001b[0m\u001b[0;34m\u001b[0m\u001b[0m\n",
            "\u001b[0;32m/usr/local/lib/python3.7/dist-packages/pandas/core/dtypes/cast.py\u001b[0m in \u001b[0;36mastype_nansafe\u001b[0;34m(arr, dtype, copy, skipna)\u001b[0m\n\u001b[1;32m   1199\u001b[0m     \u001b[0;32mif\u001b[0m \u001b[0mcopy\u001b[0m \u001b[0;32mor\u001b[0m \u001b[0mis_object_dtype\u001b[0m\u001b[0;34m(\u001b[0m\u001b[0marr\u001b[0m\u001b[0;34m.\u001b[0m\u001b[0mdtype\u001b[0m\u001b[0;34m)\u001b[0m \u001b[0;32mor\u001b[0m \u001b[0mis_object_dtype\u001b[0m\u001b[0;34m(\u001b[0m\u001b[0mdtype\u001b[0m\u001b[0;34m)\u001b[0m\u001b[0;34m:\u001b[0m\u001b[0;34m\u001b[0m\u001b[0;34m\u001b[0m\u001b[0m\n\u001b[1;32m   1200\u001b[0m         \u001b[0;31m# Explicit copy, or required since NumPy can't view from / to object.\u001b[0m\u001b[0;34m\u001b[0m\u001b[0;34m\u001b[0m\u001b[0;34m\u001b[0m\u001b[0m\n\u001b[0;32m-> 1201\u001b[0;31m         \u001b[0;32mreturn\u001b[0m \u001b[0marr\u001b[0m\u001b[0;34m.\u001b[0m\u001b[0mastype\u001b[0m\u001b[0;34m(\u001b[0m\u001b[0mdtype\u001b[0m\u001b[0;34m,\u001b[0m \u001b[0mcopy\u001b[0m\u001b[0;34m=\u001b[0m\u001b[0;32mTrue\u001b[0m\u001b[0;34m)\u001b[0m\u001b[0;34m\u001b[0m\u001b[0;34m\u001b[0m\u001b[0m\n\u001b[0m\u001b[1;32m   1202\u001b[0m \u001b[0;34m\u001b[0m\u001b[0m\n\u001b[1;32m   1203\u001b[0m     \u001b[0;32mreturn\u001b[0m \u001b[0marr\u001b[0m\u001b[0;34m.\u001b[0m\u001b[0mastype\u001b[0m\u001b[0;34m(\u001b[0m\u001b[0mdtype\u001b[0m\u001b[0;34m,\u001b[0m \u001b[0mcopy\u001b[0m\u001b[0;34m=\u001b[0m\u001b[0mcopy\u001b[0m\u001b[0;34m)\u001b[0m\u001b[0;34m\u001b[0m\u001b[0;34m\u001b[0m\u001b[0m\n",
            "\u001b[0;31mValueError\u001b[0m: could not convert string to float: 'dfgf'"
          ]
        }
      ]
    },
    {
      "cell_type": "code",
      "source": [
        "voces[\"mode\"] = voces[\"mode\"].str.replace(\"dfgf\", \"NaN\")"
      ],
      "metadata": {
        "id": "7ybuAR1UStXf"
      },
      "execution_count": null,
      "outputs": []
    },
    {
      "cell_type": "code",
      "source": [
        "voces[\"mode\"] = voces[\"mode\"].astype(\"float\")"
      ],
      "metadata": {
        "id": "dIV4ig6lS5zp"
      },
      "execution_count": null,
      "outputs": []
    },
    {
      "cell_type": "code",
      "source": [
        "#Se elimina el único valor nulo de la variable mode\n",
        "voces = voces.dropna(subset = [\"mode\"])"
      ],
      "metadata": {
        "id": "IEJudIoU8XYi"
      },
      "execution_count": null,
      "outputs": []
    },
    {
      "cell_type": "code",
      "source": [
        "voces[\"mode\"].isnull().sum()"
      ],
      "metadata": {
        "id": "WWJJr6XR71LI"
      },
      "execution_count": null,
      "outputs": []
    },
    {
      "cell_type": "code",
      "source": [
        "#La variable mode ya no presenta datos nulos"
      ],
      "metadata": {
        "id": "uD1KxinP8oDh"
      },
      "execution_count": null,
      "outputs": []
    },
    {
      "cell_type": "code",
      "source": [
        "#Variable centroid\n",
        "#La variable centroid no presenta valores nulos. Sin embargo, la misma está en formato object, por lo que debemos pasarla a float"
      ],
      "metadata": {
        "id": "l8jh9S-Ixxl9"
      },
      "execution_count": null,
      "outputs": []
    },
    {
      "cell_type": "code",
      "source": [
        "voces[\"centroid\"] = voces[\"centroid\"].astype(\"float\") "
      ],
      "metadata": {
        "id": "VsM6IjOLTyEV"
      },
      "execution_count": null,
      "outputs": []
    },
    {
      "cell_type": "code",
      "source": [
        "voces[\"centroid\"] = voces[\"centroid\"].str.replace(\"fgf\", \"NaN\")"
      ],
      "metadata": {
        "id": "YLSErW1TSkbG"
      },
      "execution_count": null,
      "outputs": []
    },
    {
      "cell_type": "code",
      "source": [
        "voces[\"centroid\"] = voces[\"centroid\"].astype(\"float\")"
      ],
      "metadata": {
        "id": "clcdLtN0SosS"
      },
      "execution_count": null,
      "outputs": []
    },
    {
      "cell_type": "code",
      "source": [
        "voces[\"centroid\"].isnull().sum()"
      ],
      "metadata": {
        "id": "fLtO9BMT8yoc"
      },
      "execution_count": null,
      "outputs": []
    },
    {
      "cell_type": "code",
      "source": [
        "voces = voces.dropna(subset = [\"centroid\"])"
      ],
      "metadata": {
        "id": "B3atE3g50LQp"
      },
      "execution_count": null,
      "outputs": []
    },
    {
      "cell_type": "code",
      "source": [
        "voces[\"centroid\"].isnull().sum()"
      ],
      "metadata": {
        "id": "qBzvcKrl0b6Z"
      },
      "execution_count": null,
      "outputs": []
    },
    {
      "cell_type": "code",
      "source": [
        "#Se eliminó el valor nulo que aparecía luego de cambiarla a float64."
      ],
      "metadata": {
        "id": "299Pil2T2gwE"
      },
      "execution_count": null,
      "outputs": []
    },
    {
      "cell_type": "code",
      "source": [
        "#Variable meanfun\n",
        "#La variable meanfun no presenta valores nulos, pero si debemos hacer el cambio de formato de object a float"
      ],
      "metadata": {
        "id": "RR7oaiyPyvJ0"
      },
      "execution_count": null,
      "outputs": []
    },
    {
      "cell_type": "code",
      "source": [
        "voces[\"meanfun\"] = voces[\"meanfun\"].astype(\"float\")"
      ],
      "metadata": {
        "id": "_JoVThRCWhxE"
      },
      "execution_count": null,
      "outputs": []
    },
    {
      "cell_type": "code",
      "source": [
        "voces[\"meanfun\"] = voces[\"meanfun\"].str.replace(\"dfdf\", \"NaN\")"
      ],
      "metadata": {
        "id": "96YIjOnBWuag"
      },
      "execution_count": null,
      "outputs": []
    },
    {
      "cell_type": "code",
      "source": [
        "voces[\"meanfun\"] = voces[\"meanfun\"].astype(\"float\")"
      ],
      "metadata": {
        "id": "Cpx4P7w6W71P"
      },
      "execution_count": null,
      "outputs": []
    },
    {
      "cell_type": "code",
      "source": [
        "voces[\"meanfun\"] = voces[\"meanfun\"].str.replace(\"NaNf\", \"NaN\")"
      ],
      "metadata": {
        "id": "IZ_63ARWXBLA"
      },
      "execution_count": null,
      "outputs": []
    },
    {
      "cell_type": "code",
      "source": [
        "voces[\"meanfun\"] = voces[\"meanfun\"].astype(\"float\")"
      ],
      "metadata": {
        "id": "KKZBRsZCXGVj"
      },
      "execution_count": null,
      "outputs": []
    },
    {
      "cell_type": "code",
      "source": [
        "#Variable minfun\n",
        "#La variable minfun no contiene valores nulos, pero si debemos hacer el cambio de formato de object a float"
      ],
      "metadata": {
        "id": "f1_wl-M0ztBR"
      },
      "execution_count": null,
      "outputs": []
    },
    {
      "cell_type": "code",
      "source": [
        "voces[\"minfun\"] = voces[\"minfun\"].astype(\"float\")"
      ],
      "metadata": {
        "id": "ZXCOPmFIY2Bz"
      },
      "execution_count": null,
      "outputs": []
    },
    {
      "cell_type": "code",
      "source": [
        "voces[\"minfun\"] = voces[\"minfun\"].str.replace(\"dfdd\", \"NaN\")"
      ],
      "metadata": {
        "id": "lchPg9tIY-p6"
      },
      "execution_count": null,
      "outputs": []
    },
    {
      "cell_type": "code",
      "source": [
        "voces[\"minfun\"] = voces[\"minfun\"].astype(\"float\")"
      ],
      "metadata": {
        "id": "coNd0Nc2ZG4R"
      },
      "execution_count": null,
      "outputs": []
    },
    {
      "cell_type": "code",
      "source": [
        "voces[\"minfun\"] = voces[\"minfun\"].str.replace(\"dfdf\", \"NaN\")"
      ],
      "metadata": {
        "id": "dCvrCIBzZM8b"
      },
      "execution_count": null,
      "outputs": []
    },
    {
      "cell_type": "code",
      "source": [
        "voces[\"minfun\"] = voces[\"minfun\"].astype(\"float\")"
      ],
      "metadata": {
        "id": "2jv0ZoKEZUF7"
      },
      "execution_count": null,
      "outputs": []
    },
    {
      "cell_type": "code",
      "source": [
        "voces[\"minfun\"] = voces[\"minfun\"].str.replace(\"gh\", \"NaN\")"
      ],
      "metadata": {
        "id": "qKGbtRD7ZWd7"
      },
      "execution_count": null,
      "outputs": []
    },
    {
      "cell_type": "code",
      "source": [
        "voces[\"minfun\"] = voces[\"minfun\"].astype(\"float\")"
      ],
      "metadata": {
        "id": "gApizvKxZbvD"
      },
      "execution_count": null,
      "outputs": []
    },
    {
      "cell_type": "code",
      "source": [
        "voces[\"minfun\"] = voces[\"minfun\"].str.replace(\"hj\", \"NaN\")"
      ],
      "metadata": {
        "id": "_x-K_09HZfvQ"
      },
      "execution_count": null,
      "outputs": []
    },
    {
      "cell_type": "code",
      "source": [
        "voces[\"minfun\"] = voces[\"minfun\"].astype(\"float\")"
      ],
      "metadata": {
        "id": "D-WaY_1AZkD2"
      },
      "execution_count": null,
      "outputs": []
    },
    {
      "cell_type": "code",
      "source": [
        "voces[\"minfun\"] = voces[\"minfun\"].str.replace(\"j\", \"NaN\")"
      ],
      "metadata": {
        "id": "VXT8ke8EZnNs"
      },
      "execution_count": null,
      "outputs": []
    },
    {
      "cell_type": "code",
      "source": [
        "voces[\"minfun\"] = voces[\"minfun\"].astype(\"float\")"
      ],
      "metadata": {
        "id": "8TLI3t6wZqtR"
      },
      "execution_count": null,
      "outputs": []
    },
    {
      "cell_type": "code",
      "source": [
        "voces[\"minfun\"] = voces[\"minfun\"].str.replace(\"NaNk\", \"NaN\")"
      ],
      "metadata": {
        "id": "ArkfeytVZuHw"
      },
      "execution_count": null,
      "outputs": []
    },
    {
      "cell_type": "code",
      "source": [
        "voces[\"minfun\"] = voces[\"minfun\"].astype(\"float\")"
      ],
      "metadata": {
        "id": "LqnS-ZX0ZyvK"
      },
      "execution_count": null,
      "outputs": []
    },
    {
      "cell_type": "code",
      "source": [
        "voces[\"minfun\"] = voces[\"minfun\"].str.replace(\"NaN1k\", \"NaN\")"
      ],
      "metadata": {
        "id": "5XtRhTc7Z2ca"
      },
      "execution_count": null,
      "outputs": []
    },
    {
      "cell_type": "code",
      "source": [
        "voces[\"minfun\"] = voces[\"minfun\"].astype(\"float\")"
      ],
      "metadata": {
        "id": "8HKNg9_eZ62e"
      },
      "execution_count": null,
      "outputs": []
    },
    {
      "cell_type": "code",
      "source": [
        "voces[\"minfun\"] = voces[\"minfun\"].str.replace(\"NaNlk\", \"NaN\")"
      ],
      "metadata": {
        "id": "0c3CDupGaZkX"
      },
      "execution_count": null,
      "outputs": []
    },
    {
      "cell_type": "code",
      "source": [
        "voces[\"minfun\"] = voces[\"minfun\"].astype(\"float\")"
      ],
      "metadata": {
        "id": "o0mAT1iFauJY"
      },
      "execution_count": null,
      "outputs": []
    },
    {
      "cell_type": "code",
      "source": [
        "voces[\"minfun\"] = voces[\"minfun\"].str.replace(\"df\", \"NaN\")"
      ],
      "metadata": {
        "id": "EJeLQVUra6ZD"
      },
      "execution_count": null,
      "outputs": []
    },
    {
      "cell_type": "code",
      "source": [
        "voces[\"minfun\"] = voces[\"minfun\"].astype(\"float\")"
      ],
      "metadata": {
        "id": "Pfp2Ewx3a-uJ"
      },
      "execution_count": null,
      "outputs": []
    },
    {
      "cell_type": "code",
      "source": [
        "#Variable maxfun\n",
        "#La variable maxfun no contiene valores nulos, pero si debemos hacer el cambio de variable de object a float"
      ],
      "metadata": {
        "id": "DN_PIjQAy8mO"
      },
      "execution_count": null,
      "outputs": []
    },
    {
      "cell_type": "code",
      "source": [
        "voces[\"maxfun\"] = voces[\"maxfun\"].astype(\"float\")"
      ],
      "metadata": {
        "id": "YIvuDp8WQMa1"
      },
      "execution_count": null,
      "outputs": []
    },
    {
      "cell_type": "code",
      "source": [
        "voces[\"maxfun\"] = voces[\"maxfun\"].str.replace(\"dfd\", \"NaN\")"
      ],
      "metadata": {
        "id": "Z6kG0aIyQflW"
      },
      "execution_count": null,
      "outputs": []
    },
    {
      "cell_type": "code",
      "source": [
        "voces[\"maxfun\"] = voces[\"maxfun\"].astype(\"float\")"
      ],
      "metadata": {
        "id": "oWnUXjZBQvUq"
      },
      "execution_count": null,
      "outputs": []
    },
    {
      "cell_type": "code",
      "source": [
        "#Variable meandom\n",
        "#Esta variable no presenta datos nulos, pero se debe cambiar de tipo object a float"
      ],
      "metadata": {
        "id": "494cJ9Pz8lcV"
      },
      "execution_count": null,
      "outputs": []
    },
    {
      "cell_type": "code",
      "source": [
        "voces[\"meandom\"] = voces[\"meandom\"].astype(\"float\")"
      ],
      "metadata": {
        "id": "C6RpO2IO88Ch"
      },
      "execution_count": null,
      "outputs": []
    },
    {
      "cell_type": "code",
      "source": [
        "voces['meandom'] = voces['meandom'].str.replace('127.711.397.058.824', '1.27711397058824')"
      ],
      "metadata": {
        "id": "lQgshL4l9Ild"
      },
      "execution_count": null,
      "outputs": []
    },
    {
      "cell_type": "code",
      "source": [
        "voces[\"meandom\"] = voces[\"meandom\"].astype(\"float\")"
      ],
      "metadata": {
        "id": "GlzROd8ICk98"
      },
      "execution_count": null,
      "outputs": []
    },
    {
      "cell_type": "code",
      "source": [
        "voces['meandom'] = voces['meandom'].str.replace('1.27711397058.824', '11.27711397058824')"
      ],
      "metadata": {
        "id": "J4sN8tm8EZWp"
      },
      "execution_count": null,
      "outputs": []
    },
    {
      "cell_type": "code",
      "source": [
        "voces[\"meandom\"] = voces[\"meandom\"].astype(\"float\")"
      ],
      "metadata": {
        "id": "mGA457v_EitF"
      },
      "execution_count": null,
      "outputs": []
    },
    {
      "cell_type": "code",
      "source": [
        "voces['meandom'] = voces['meandom'].str.replace('124.573.863.636.364', '1.24573863636364')"
      ],
      "metadata": {
        "id": "D7QYwIQVEmHg"
      },
      "execution_count": null,
      "outputs": []
    },
    {
      "cell_type": "code",
      "source": [
        "voces[\"meandom\"] = voces[\"meandom\"].astype(\"float\")"
      ],
      "metadata": {
        "id": "aWUMs8b0E1MW"
      },
      "execution_count": null,
      "outputs": []
    },
    {
      "cell_type": "code",
      "source": [
        "voces['meandom'] = voces['meandom'].str.replace('162.129.934.210.526', '1.62129934210526')"
      ],
      "metadata": {
        "id": "Cbaur16wE3IE"
      },
      "execution_count": null,
      "outputs": []
    },
    {
      "cell_type": "code",
      "source": [
        "voces[\"meandom\"] = voces[\"meandom\"].astype(\"float\")"
      ],
      "metadata": {
        "id": "u58M3MSlFCU3",
        "colab": {
          "base_uri": "https://localhost:8080/",
          "height": 311
        },
        "outputId": "ae17a109-3cad-4350-f311-36e832813238"
      },
      "execution_count": null,
      "outputs": [
        {
          "output_type": "error",
          "ename": "ValueError",
          "evalue": "ignored",
          "traceback": [
            "\u001b[0;31m---------------------------------------------------------------------------\u001b[0m",
            "\u001b[0;31mValueError\u001b[0m                                Traceback (most recent call last)",
            "\u001b[0;32m<ipython-input-343-3f2c2b3387ca>\u001b[0m in \u001b[0;36m<module>\u001b[0;34m()\u001b[0m\n\u001b[0;32m----> 1\u001b[0;31m \u001b[0mvoces\u001b[0m\u001b[0;34m[\u001b[0m\u001b[0;34m\"meandom\"\u001b[0m\u001b[0;34m]\u001b[0m \u001b[0;34m=\u001b[0m \u001b[0mvoces\u001b[0m\u001b[0;34m[\u001b[0m\u001b[0;34m\"meandom\"\u001b[0m\u001b[0;34m]\u001b[0m\u001b[0;34m.\u001b[0m\u001b[0mastype\u001b[0m\u001b[0;34m(\u001b[0m\u001b[0;34m\"float\"\u001b[0m\u001b[0;34m)\u001b[0m\u001b[0;34m\u001b[0m\u001b[0;34m\u001b[0m\u001b[0m\n\u001b[0m",
            "\u001b[0;32m/usr/local/lib/python3.7/dist-packages/pandas/core/generic.py\u001b[0m in \u001b[0;36mastype\u001b[0;34m(self, dtype, copy, errors)\u001b[0m\n\u001b[1;32m   5813\u001b[0m         \u001b[0;32melse\u001b[0m\u001b[0;34m:\u001b[0m\u001b[0;34m\u001b[0m\u001b[0;34m\u001b[0m\u001b[0m\n\u001b[1;32m   5814\u001b[0m             \u001b[0;31m# else, only a single dtype is given\u001b[0m\u001b[0;34m\u001b[0m\u001b[0;34m\u001b[0m\u001b[0;34m\u001b[0m\u001b[0m\n\u001b[0;32m-> 5815\u001b[0;31m             \u001b[0mnew_data\u001b[0m \u001b[0;34m=\u001b[0m \u001b[0mself\u001b[0m\u001b[0;34m.\u001b[0m\u001b[0m_mgr\u001b[0m\u001b[0;34m.\u001b[0m\u001b[0mastype\u001b[0m\u001b[0;34m(\u001b[0m\u001b[0mdtype\u001b[0m\u001b[0;34m=\u001b[0m\u001b[0mdtype\u001b[0m\u001b[0;34m,\u001b[0m \u001b[0mcopy\u001b[0m\u001b[0;34m=\u001b[0m\u001b[0mcopy\u001b[0m\u001b[0;34m,\u001b[0m \u001b[0merrors\u001b[0m\u001b[0;34m=\u001b[0m\u001b[0merrors\u001b[0m\u001b[0;34m)\u001b[0m\u001b[0;34m\u001b[0m\u001b[0;34m\u001b[0m\u001b[0m\n\u001b[0m\u001b[1;32m   5816\u001b[0m             \u001b[0;32mreturn\u001b[0m \u001b[0mself\u001b[0m\u001b[0;34m.\u001b[0m\u001b[0m_constructor\u001b[0m\u001b[0;34m(\u001b[0m\u001b[0mnew_data\u001b[0m\u001b[0;34m)\u001b[0m\u001b[0;34m.\u001b[0m\u001b[0m__finalize__\u001b[0m\u001b[0;34m(\u001b[0m\u001b[0mself\u001b[0m\u001b[0;34m,\u001b[0m \u001b[0mmethod\u001b[0m\u001b[0;34m=\u001b[0m\u001b[0;34m\"astype\"\u001b[0m\u001b[0;34m)\u001b[0m\u001b[0;34m\u001b[0m\u001b[0;34m\u001b[0m\u001b[0m\n\u001b[1;32m   5817\u001b[0m \u001b[0;34m\u001b[0m\u001b[0m\n",
            "\u001b[0;32m/usr/local/lib/python3.7/dist-packages/pandas/core/internals/managers.py\u001b[0m in \u001b[0;36mastype\u001b[0;34m(self, dtype, copy, errors)\u001b[0m\n\u001b[1;32m    416\u001b[0m \u001b[0;34m\u001b[0m\u001b[0m\n\u001b[1;32m    417\u001b[0m     \u001b[0;32mdef\u001b[0m \u001b[0mastype\u001b[0m\u001b[0;34m(\u001b[0m\u001b[0mself\u001b[0m\u001b[0;34m:\u001b[0m \u001b[0mT\u001b[0m\u001b[0;34m,\u001b[0m \u001b[0mdtype\u001b[0m\u001b[0;34m,\u001b[0m \u001b[0mcopy\u001b[0m\u001b[0;34m:\u001b[0m \u001b[0mbool\u001b[0m \u001b[0;34m=\u001b[0m \u001b[0;32mFalse\u001b[0m\u001b[0;34m,\u001b[0m \u001b[0merrors\u001b[0m\u001b[0;34m:\u001b[0m \u001b[0mstr\u001b[0m \u001b[0;34m=\u001b[0m \u001b[0;34m\"raise\"\u001b[0m\u001b[0;34m)\u001b[0m \u001b[0;34m->\u001b[0m \u001b[0mT\u001b[0m\u001b[0;34m:\u001b[0m\u001b[0;34m\u001b[0m\u001b[0;34m\u001b[0m\u001b[0m\n\u001b[0;32m--> 418\u001b[0;31m         \u001b[0;32mreturn\u001b[0m \u001b[0mself\u001b[0m\u001b[0;34m.\u001b[0m\u001b[0mapply\u001b[0m\u001b[0;34m(\u001b[0m\u001b[0;34m\"astype\"\u001b[0m\u001b[0;34m,\u001b[0m \u001b[0mdtype\u001b[0m\u001b[0;34m=\u001b[0m\u001b[0mdtype\u001b[0m\u001b[0;34m,\u001b[0m \u001b[0mcopy\u001b[0m\u001b[0;34m=\u001b[0m\u001b[0mcopy\u001b[0m\u001b[0;34m,\u001b[0m \u001b[0merrors\u001b[0m\u001b[0;34m=\u001b[0m\u001b[0merrors\u001b[0m\u001b[0;34m)\u001b[0m\u001b[0;34m\u001b[0m\u001b[0;34m\u001b[0m\u001b[0m\n\u001b[0m\u001b[1;32m    419\u001b[0m \u001b[0;34m\u001b[0m\u001b[0m\n\u001b[1;32m    420\u001b[0m     def convert(\n",
            "\u001b[0;32m/usr/local/lib/python3.7/dist-packages/pandas/core/internals/managers.py\u001b[0m in \u001b[0;36mapply\u001b[0;34m(self, f, align_keys, ignore_failures, **kwargs)\u001b[0m\n\u001b[1;32m    325\u001b[0m                     \u001b[0mapplied\u001b[0m \u001b[0;34m=\u001b[0m \u001b[0mb\u001b[0m\u001b[0;34m.\u001b[0m\u001b[0mapply\u001b[0m\u001b[0;34m(\u001b[0m\u001b[0mf\u001b[0m\u001b[0;34m,\u001b[0m \u001b[0;34m**\u001b[0m\u001b[0mkwargs\u001b[0m\u001b[0;34m)\u001b[0m\u001b[0;34m\u001b[0m\u001b[0;34m\u001b[0m\u001b[0m\n\u001b[1;32m    326\u001b[0m                 \u001b[0;32melse\u001b[0m\u001b[0;34m:\u001b[0m\u001b[0;34m\u001b[0m\u001b[0;34m\u001b[0m\u001b[0m\n\u001b[0;32m--> 327\u001b[0;31m                     \u001b[0mapplied\u001b[0m \u001b[0;34m=\u001b[0m \u001b[0mgetattr\u001b[0m\u001b[0;34m(\u001b[0m\u001b[0mb\u001b[0m\u001b[0;34m,\u001b[0m \u001b[0mf\u001b[0m\u001b[0;34m)\u001b[0m\u001b[0;34m(\u001b[0m\u001b[0;34m**\u001b[0m\u001b[0mkwargs\u001b[0m\u001b[0;34m)\u001b[0m\u001b[0;34m\u001b[0m\u001b[0;34m\u001b[0m\u001b[0m\n\u001b[0m\u001b[1;32m    328\u001b[0m             \u001b[0;32mexcept\u001b[0m \u001b[0;34m(\u001b[0m\u001b[0mTypeError\u001b[0m\u001b[0;34m,\u001b[0m \u001b[0mNotImplementedError\u001b[0m\u001b[0;34m)\u001b[0m\u001b[0;34m:\u001b[0m\u001b[0;34m\u001b[0m\u001b[0;34m\u001b[0m\u001b[0m\n\u001b[1;32m    329\u001b[0m                 \u001b[0;32mif\u001b[0m \u001b[0;32mnot\u001b[0m \u001b[0mignore_failures\u001b[0m\u001b[0;34m:\u001b[0m\u001b[0;34m\u001b[0m\u001b[0;34m\u001b[0m\u001b[0m\n",
            "\u001b[0;32m/usr/local/lib/python3.7/dist-packages/pandas/core/internals/blocks.py\u001b[0m in \u001b[0;36mastype\u001b[0;34m(self, dtype, copy, errors)\u001b[0m\n\u001b[1;32m    589\u001b[0m         \u001b[0mvalues\u001b[0m \u001b[0;34m=\u001b[0m \u001b[0mself\u001b[0m\u001b[0;34m.\u001b[0m\u001b[0mvalues\u001b[0m\u001b[0;34m\u001b[0m\u001b[0;34m\u001b[0m\u001b[0m\n\u001b[1;32m    590\u001b[0m \u001b[0;34m\u001b[0m\u001b[0m\n\u001b[0;32m--> 591\u001b[0;31m         \u001b[0mnew_values\u001b[0m \u001b[0;34m=\u001b[0m \u001b[0mastype_array_safe\u001b[0m\u001b[0;34m(\u001b[0m\u001b[0mvalues\u001b[0m\u001b[0;34m,\u001b[0m \u001b[0mdtype\u001b[0m\u001b[0;34m,\u001b[0m \u001b[0mcopy\u001b[0m\u001b[0;34m=\u001b[0m\u001b[0mcopy\u001b[0m\u001b[0;34m,\u001b[0m \u001b[0merrors\u001b[0m\u001b[0;34m=\u001b[0m\u001b[0merrors\u001b[0m\u001b[0;34m)\u001b[0m\u001b[0;34m\u001b[0m\u001b[0;34m\u001b[0m\u001b[0m\n\u001b[0m\u001b[1;32m    592\u001b[0m \u001b[0;34m\u001b[0m\u001b[0m\n\u001b[1;32m    593\u001b[0m         \u001b[0mnew_values\u001b[0m \u001b[0;34m=\u001b[0m \u001b[0mmaybe_coerce_values\u001b[0m\u001b[0;34m(\u001b[0m\u001b[0mnew_values\u001b[0m\u001b[0;34m)\u001b[0m\u001b[0;34m\u001b[0m\u001b[0;34m\u001b[0m\u001b[0m\n",
            "\u001b[0;32m/usr/local/lib/python3.7/dist-packages/pandas/core/dtypes/cast.py\u001b[0m in \u001b[0;36mastype_array_safe\u001b[0;34m(values, dtype, copy, errors)\u001b[0m\n\u001b[1;32m   1307\u001b[0m \u001b[0;34m\u001b[0m\u001b[0m\n\u001b[1;32m   1308\u001b[0m     \u001b[0;32mtry\u001b[0m\u001b[0;34m:\u001b[0m\u001b[0;34m\u001b[0m\u001b[0;34m\u001b[0m\u001b[0m\n\u001b[0;32m-> 1309\u001b[0;31m         \u001b[0mnew_values\u001b[0m \u001b[0;34m=\u001b[0m \u001b[0mastype_array\u001b[0m\u001b[0;34m(\u001b[0m\u001b[0mvalues\u001b[0m\u001b[0;34m,\u001b[0m \u001b[0mdtype\u001b[0m\u001b[0;34m,\u001b[0m \u001b[0mcopy\u001b[0m\u001b[0;34m=\u001b[0m\u001b[0mcopy\u001b[0m\u001b[0;34m)\u001b[0m\u001b[0;34m\u001b[0m\u001b[0;34m\u001b[0m\u001b[0m\n\u001b[0m\u001b[1;32m   1310\u001b[0m     \u001b[0;32mexcept\u001b[0m \u001b[0;34m(\u001b[0m\u001b[0mValueError\u001b[0m\u001b[0;34m,\u001b[0m \u001b[0mTypeError\u001b[0m\u001b[0;34m)\u001b[0m\u001b[0;34m:\u001b[0m\u001b[0;34m\u001b[0m\u001b[0;34m\u001b[0m\u001b[0m\n\u001b[1;32m   1311\u001b[0m         \u001b[0;31m# e.g. astype_nansafe can fail on object-dtype of strings\u001b[0m\u001b[0;34m\u001b[0m\u001b[0;34m\u001b[0m\u001b[0;34m\u001b[0m\u001b[0m\n",
            "\u001b[0;32m/usr/local/lib/python3.7/dist-packages/pandas/core/dtypes/cast.py\u001b[0m in \u001b[0;36mastype_array\u001b[0;34m(values, dtype, copy)\u001b[0m\n\u001b[1;32m   1255\u001b[0m \u001b[0;34m\u001b[0m\u001b[0m\n\u001b[1;32m   1256\u001b[0m     \u001b[0;32melse\u001b[0m\u001b[0;34m:\u001b[0m\u001b[0;34m\u001b[0m\u001b[0;34m\u001b[0m\u001b[0m\n\u001b[0;32m-> 1257\u001b[0;31m         \u001b[0mvalues\u001b[0m \u001b[0;34m=\u001b[0m \u001b[0mastype_nansafe\u001b[0m\u001b[0;34m(\u001b[0m\u001b[0mvalues\u001b[0m\u001b[0;34m,\u001b[0m \u001b[0mdtype\u001b[0m\u001b[0;34m,\u001b[0m \u001b[0mcopy\u001b[0m\u001b[0;34m=\u001b[0m\u001b[0mcopy\u001b[0m\u001b[0;34m)\u001b[0m\u001b[0;34m\u001b[0m\u001b[0;34m\u001b[0m\u001b[0m\n\u001b[0m\u001b[1;32m   1258\u001b[0m \u001b[0;34m\u001b[0m\u001b[0m\n\u001b[1;32m   1259\u001b[0m     \u001b[0;31m# in pandas we don't store numpy str dtypes, so convert to object\u001b[0m\u001b[0;34m\u001b[0m\u001b[0;34m\u001b[0m\u001b[0;34m\u001b[0m\u001b[0m\n",
            "\u001b[0;32m/usr/local/lib/python3.7/dist-packages/pandas/core/dtypes/cast.py\u001b[0m in \u001b[0;36mastype_nansafe\u001b[0;34m(arr, dtype, copy, skipna)\u001b[0m\n\u001b[1;32m   1199\u001b[0m     \u001b[0;32mif\u001b[0m \u001b[0mcopy\u001b[0m \u001b[0;32mor\u001b[0m \u001b[0mis_object_dtype\u001b[0m\u001b[0;34m(\u001b[0m\u001b[0marr\u001b[0m\u001b[0;34m.\u001b[0m\u001b[0mdtype\u001b[0m\u001b[0;34m)\u001b[0m \u001b[0;32mor\u001b[0m \u001b[0mis_object_dtype\u001b[0m\u001b[0;34m(\u001b[0m\u001b[0mdtype\u001b[0m\u001b[0;34m)\u001b[0m\u001b[0;34m:\u001b[0m\u001b[0;34m\u001b[0m\u001b[0;34m\u001b[0m\u001b[0m\n\u001b[1;32m   1200\u001b[0m         \u001b[0;31m# Explicit copy, or required since NumPy can't view from / to object.\u001b[0m\u001b[0;34m\u001b[0m\u001b[0;34m\u001b[0m\u001b[0;34m\u001b[0m\u001b[0m\n\u001b[0;32m-> 1201\u001b[0;31m         \u001b[0;32mreturn\u001b[0m \u001b[0marr\u001b[0m\u001b[0;34m.\u001b[0m\u001b[0mastype\u001b[0m\u001b[0;34m(\u001b[0m\u001b[0mdtype\u001b[0m\u001b[0;34m,\u001b[0m \u001b[0mcopy\u001b[0m\u001b[0;34m=\u001b[0m\u001b[0;32mTrue\u001b[0m\u001b[0;34m)\u001b[0m\u001b[0;34m\u001b[0m\u001b[0;34m\u001b[0m\u001b[0m\n\u001b[0m\u001b[1;32m   1202\u001b[0m \u001b[0;34m\u001b[0m\u001b[0m\n\u001b[1;32m   1203\u001b[0m     \u001b[0;32mreturn\u001b[0m \u001b[0marr\u001b[0m\u001b[0;34m.\u001b[0m\u001b[0mastype\u001b[0m\u001b[0;34m(\u001b[0m\u001b[0mdtype\u001b[0m\u001b[0;34m,\u001b[0m \u001b[0mcopy\u001b[0m\u001b[0;34m=\u001b[0m\u001b[0mcopy\u001b[0m\u001b[0;34m)\u001b[0m\u001b[0;34m\u001b[0m\u001b[0;34m\u001b[0m\u001b[0m\n",
            "\u001b[0;31mValueError\u001b[0m: could not convert string to float: '143.411.458.333.333'"
          ]
        }
      ]
    },
    {
      "cell_type": "code",
      "source": [
        "#Variable maxdom"
      ],
      "metadata": {
        "id": "Jxt_8Sul9ZxP"
      },
      "execution_count": null,
      "outputs": []
    },
    {
      "cell_type": "code",
      "source": [
        "voces[\"maxdom\"] = voces[\"maxdom\"].astype(\"float\")"
      ],
      "metadata": {
        "id": "iSFSXtr7-fty"
      },
      "execution_count": null,
      "outputs": []
    },
    {
      "cell_type": "code",
      "source": [
        "voces['maxdom'] = voces['maxdom'].str.replace('5.484.375', '5.484375')"
      ],
      "metadata": {
        "id": "4OX7g9LH_bQ6"
      },
      "execution_count": null,
      "outputs": []
    },
    {
      "cell_type": "code",
      "source": [
        "voces[\"maxdom\"] = voces[\"maxdom\"].astype(\"float\")"
      ],
      "metadata": {
        "id": "JyILegUmBTsC"
      },
      "execution_count": null,
      "outputs": []
    },
    {
      "cell_type": "code",
      "source": [
        "voces.dtypes"
      ],
      "metadata": {
        "id": "_abZ03MwUi-j",
        "colab": {
          "base_uri": "https://localhost:8080/"
        },
        "outputId": "b52c801d-a09b-4ec2-d739-aacdd86f6315"
      },
      "execution_count": null,
      "outputs": [
        {
          "output_type": "execute_result",
          "data": {
            "text/plain": [
              "meanfreq    float64\n",
              "sd          float64\n",
              "median      float64\n",
              "Q25         float64\n",
              "Q75         float64\n",
              "IQR         float64\n",
              "skew        float64\n",
              "kurt        float64\n",
              "sp.ent      float64\n",
              "sfm         float64\n",
              "mode        float64\n",
              "centroid    float64\n",
              "meanfun     float64\n",
              "minfun      float64\n",
              "maxfun      float64\n",
              "meandom      object\n",
              "mindom      float64\n",
              "maxdom       object\n",
              "dfrange     float64\n",
              "modindx     float64\n",
              "genero       object\n",
              "dtype: object"
            ]
          },
          "metadata": {},
          "execution_count": 342
        }
      ]
    },
    {
      "cell_type": "code",
      "source": [
        "voces.isnull().sum()"
      ],
      "metadata": {
        "id": "wwrL2vBGgtot",
        "colab": {
          "base_uri": "https://localhost:8080/"
        },
        "outputId": "52890e48-b2b9-41d4-a9b5-9e7d936d940e"
      },
      "execution_count": 412,
      "outputs": [
        {
          "output_type": "execute_result",
          "data": {
            "text/plain": [
              "meanfreq    0\n",
              "sd          0\n",
              "median      0\n",
              "Q25         0\n",
              "Q75         0\n",
              "IQR         0\n",
              "skew        0\n",
              "kurt        0\n",
              "sp.ent      0\n",
              "sfm         0\n",
              "mode        0\n",
              "centroid    0\n",
              "meanfun     0\n",
              "minfun      0\n",
              "maxfun      0\n",
              "meandom     0\n",
              "mindom      0\n",
              "maxdom      0\n",
              "dfrange     0\n",
              "modindx     0\n",
              "genero      4\n",
              "dtype: int64"
            ]
          },
          "metadata": {},
          "execution_count": 412
        }
      ]
    },
    {
      "cell_type": "code",
      "source": [
        "#Faltan de limpiar variables maxdom, meandom, df range y revisión general (variable minfun presenta algunos valores anomalos)"
      ],
      "metadata": {
        "id": "BUzqcVMeDFGy"
      },
      "execution_count": null,
      "outputs": []
    },
    {
      "cell_type": "code",
      "source": [
        "# Variable Maxdom "
      ],
      "metadata": {
        "id": "JW4uLhTJKYyW"
      },
      "execution_count": null,
      "outputs": []
    },
    {
      "cell_type": "code",
      "source": [
        "voces[\"maxdom\"] = voces[\"maxdom\"].astype(\"float\")"
      ],
      "metadata": {
        "id": "7gHBlrGhaZ52"
      },
      "execution_count": 502,
      "outputs": []
    },
    {
      "cell_type": "code",
      "source": [
        "voces['maxdom'] = pd.to_numeric(voces['maxdom'], errors='coerce')"
      ],
      "metadata": {
        "id": "MgAw6uwpaaEV"
      },
      "execution_count": 499,
      "outputs": []
    },
    {
      "cell_type": "code",
      "source": [
        "voces[\"maxdom\"] = voces[\"maxdom\"].astype(\"float\")"
      ],
      "metadata": {
        "id": "1QIN20-IaaNv"
      },
      "execution_count": 500,
      "outputs": []
    },
    {
      "cell_type": "code",
      "source": [
        "voces.dtypes"
      ],
      "metadata": {
        "colab": {
          "base_uri": "https://localhost:8080/"
        },
        "id": "8a06veebbsW5",
        "outputId": "79bcd38e-8f8f-44bd-aa1e-b9b28a86336c"
      },
      "execution_count": 501,
      "outputs": [
        {
          "output_type": "execute_result",
          "data": {
            "text/plain": [
              "meanfreq    float64\n",
              "sd          float64\n",
              "median      float64\n",
              "Q25         float64\n",
              "Q75         float64\n",
              "IQR         float64\n",
              "skew        float64\n",
              "kurt        float64\n",
              "sp.ent      float64\n",
              "sfm         float64\n",
              "mode         object\n",
              "centroid     object\n",
              "meanfun      object\n",
              "minfun       object\n",
              "maxfun       object\n",
              "meandom      object\n",
              "mindom      float64\n",
              "maxdom      float64\n",
              "dfrange      object\n",
              "modindx     float64\n",
              "genero       object\n",
              "dtype: object"
            ]
          },
          "metadata": {},
          "execution_count": 501
        }
      ]
    },
    {
      "cell_type": "code",
      "source": [
        "voces['maxdom'].mode()"
      ],
      "metadata": {
        "id": "22xnleD4KY-U",
        "colab": {
          "base_uri": "https://localhost:8080/"
        },
        "outputId": "b6eddcf8-53b0-4e6a-af4f-3c4bbb8161a0"
      },
      "execution_count": 492,
      "outputs": [
        {
          "output_type": "execute_result",
          "data": {
            "text/plain": [
              "0    0.007812\n",
              "dtype: float64"
            ]
          },
          "metadata": {},
          "execution_count": 492
        }
      ]
    },
    {
      "cell_type": "code",
      "source": [
        "# Comprobemos la frecuencia de Maxdom\n",
        "pd.value_counts(voces['maxdom'])"
      ],
      "metadata": {
        "id": "bBFMgZoUKZIm",
        "colab": {
          "base_uri": "https://localhost:8080/"
        },
        "outputId": "f3119b67-0507-4b1b-90fa-a710c9e1af4d"
      },
      "execution_count": 493,
      "outputs": [
        {
          "output_type": "execute_result",
          "data": {
            "text/plain": [
              "0.007812      61\n",
              "7.000000      21\n",
              "515.625000    16\n",
              "0.695312      13\n",
              "0.786133      13\n",
              "              ..\n",
              "73.125000      1\n",
              "0.691406       1\n",
              "38.125000      1\n",
              "246.875000     1\n",
              "503.125000     1\n",
              "Name: maxdom, Length: 353, dtype: int64"
            ]
          },
          "metadata": {},
          "execution_count": 493
        }
      ]
    },
    {
      "cell_type": "code",
      "source": [
        "# Veamos el peso porcentual de cada una\n",
        "\n",
        "100 * voces['maxdom'].value_counts() / len(voces['maxdom'])"
      ],
      "metadata": {
        "id": "z6gM_tJmKZR0",
        "colab": {
          "base_uri": "https://localhost:8080/"
        },
        "outputId": "fc122e50-75f6-4947-a1b7-374bd4c853ff"
      },
      "execution_count": 494,
      "outputs": [
        {
          "output_type": "execute_result",
          "data": {
            "text/plain": [
              "0.007812      1.927939\n",
              "7.000000      0.663717\n",
              "515.625000    0.505689\n",
              "0.695312      0.410872\n",
              "0.786133      0.410872\n",
              "                ...   \n",
              "73.125000     0.031606\n",
              "0.691406      0.031606\n",
              "38.125000     0.031606\n",
              "246.875000    0.031606\n",
              "503.125000    0.031606\n",
              "Name: maxdom, Length: 353, dtype: float64"
            ]
          },
          "metadata": {},
          "execution_count": 494
        }
      ]
    },
    {
      "cell_type": "code",
      "source": [
        "voces['maxdom'].fillna(\"maxdom\", inplace = True)"
      ],
      "metadata": {
        "id": "4HmydvknMaa0"
      },
      "execution_count": 495,
      "outputs": []
    },
    {
      "cell_type": "code",
      "source": [
        "# Comprobando si la variable tiene datos vacios\n",
        "\n",
        "voces['maxdom'].isnull().sum()"
      ],
      "metadata": {
        "id": "XAn1GVXcKZgj",
        "colab": {
          "base_uri": "https://localhost:8080/"
        },
        "outputId": "5b6a6c7c-6779-4494-db4d-6745ab8d9e1d"
      },
      "execution_count": 496,
      "outputs": [
        {
          "output_type": "execute_result",
          "data": {
            "text/plain": [
              "0"
            ]
          },
          "metadata": {},
          "execution_count": 496
        }
      ]
    },
    {
      "cell_type": "code",
      "source": [
        "voces.isnull().sum()"
      ],
      "metadata": {
        "colab": {
          "base_uri": "https://localhost:8080/"
        },
        "id": "eq4fnz-PXfe2",
        "outputId": "c17928ce-d6b6-40c3-8d3c-d673e7c02210"
      },
      "execution_count": 498,
      "outputs": [
        {
          "output_type": "execute_result",
          "data": {
            "text/plain": [
              "meanfreq    0\n",
              "sd          0\n",
              "median      0\n",
              "Q25         0\n",
              "Q75         0\n",
              "IQR         0\n",
              "skew        0\n",
              "kurt        0\n",
              "sp.ent      0\n",
              "sfm         0\n",
              "mode        0\n",
              "centroid    0\n",
              "meanfun     0\n",
              "minfun      0\n",
              "maxfun      0\n",
              "meandom     0\n",
              "mindom      0\n",
              "maxdom      0\n",
              "dfrange     0\n",
              "modindx     0\n",
              "genero      4\n",
              "dtype: int64"
            ]
          },
          "metadata": {},
          "execution_count": 498
        }
      ]
    },
    {
      "cell_type": "code",
      "source": [
        "#Limpieza dfrange\n",
        "\n",
        "voces[\"dfrange\"] = voces[\"dfrange\"].astype(\"float\")"
      ],
      "metadata": {
        "id": "MIgU-6Fy-rDr"
      },
      "execution_count": null,
      "outputs": []
    },
    {
      "cell_type": "code",
      "source": [
        "voces['dfrange'] = voces['dfrange'].str.replace('.', '')"
      ],
      "metadata": {
        "id": "R3-Gu_cI-tdU"
      },
      "execution_count": null,
      "outputs": []
    },
    {
      "cell_type": "code",
      "source": [
        "voces[\"dfrange\"] = voces[\"dfrange\"].astype(\"float\")"
      ],
      "metadata": {
        "id": "dT7drwHx-7Rg"
      },
      "execution_count": null,
      "outputs": []
    },
    {
      "cell_type": "code",
      "source": [
        "#Análisis exploratorio de datos por cada variable"
      ],
      "metadata": {
        "id": "oowfHBoVDQXL"
      },
      "execution_count": null,
      "outputs": []
    },
    {
      "cell_type": "code",
      "source": [
        "#Variable meanfreq"
      ],
      "metadata": {
        "id": "WBd7F41cDVMX"
      },
      "execution_count": null,
      "outputs": []
    },
    {
      "cell_type": "code",
      "source": [
        "voces[\"meanfreq\"].min()"
      ],
      "metadata": {
        "id": "VVg7So3ADZbz"
      },
      "execution_count": null,
      "outputs": []
    },
    {
      "cell_type": "code",
      "source": [
        "#El valor más bajo de la variable meanfreq es 0.0393"
      ],
      "metadata": {
        "id": "sIAm7ysZCHtM"
      },
      "execution_count": null,
      "outputs": []
    },
    {
      "cell_type": "code",
      "source": [
        "voces[\"meanfreq\"].max()"
      ],
      "metadata": {
        "id": "rEVWs4QbDr8O"
      },
      "execution_count": null,
      "outputs": []
    },
    {
      "cell_type": "code",
      "source": [
        "#El valor más alto de la variable meanfreq es 0.2511"
      ],
      "metadata": {
        "id": "d1kKNXqRCXKL"
      },
      "execution_count": null,
      "outputs": []
    },
    {
      "cell_type": "code",
      "source": [
        "voces[\"meanfreq\"].mode()"
      ],
      "metadata": {
        "id": "DUiy4a06Dxq0"
      },
      "execution_count": null,
      "outputs": []
    },
    {
      "cell_type": "code",
      "source": [
        "#Para la variable meanfrq hay dos modas, los valores que se repiten más vece son 0.2121 y 0.2137"
      ],
      "metadata": {
        "id": "FnUCKTUkChLH"
      },
      "execution_count": null,
      "outputs": []
    },
    {
      "cell_type": "code",
      "source": [
        "voces[\"meanfreq\"].median()"
      ],
      "metadata": {
        "id": "hfk92ddHD8-1"
      },
      "execution_count": null,
      "outputs": []
    },
    {
      "cell_type": "code",
      "source": [
        "#Para la variable meanfreq, el 50% de los valores son menores o iguales a 0.18 y el 50%, mayores o iguales a 0.18"
      ],
      "metadata": {
        "id": "IPS35iMxC8Te"
      },
      "execution_count": null,
      "outputs": []
    },
    {
      "cell_type": "code",
      "source": [
        "voces[\"meanfreq\"].mean()"
      ],
      "metadata": {
        "id": "vS5Lvj7xENP7"
      },
      "execution_count": null,
      "outputs": []
    },
    {
      "cell_type": "code",
      "source": [
        "#En promedio, la frecuencia media es de 0.1848 Khz"
      ],
      "metadata": {
        "id": "1Urmv1gLDPuy"
      },
      "execution_count": null,
      "outputs": []
    },
    {
      "cell_type": "code",
      "source": [
        "voces[\"meanfreq\"].std()"
      ],
      "metadata": {
        "id": "eHJo0F9qESU-"
      },
      "execution_count": null,
      "outputs": []
    },
    {
      "cell_type": "code",
      "source": [
        "#Los datos de la variable meanfreq tienen una dispersión de 0.0298"
      ],
      "metadata": {
        "id": "kB6agOJ0DgAh"
      },
      "execution_count": null,
      "outputs": []
    },
    {
      "cell_type": "code",
      "source": [
        "voces[\"meanfreq\"].hist()\n",
        "plt.show()"
      ],
      "metadata": {
        "id": "EnSl0s5oFJmV"
      },
      "execution_count": null,
      "outputs": []
    },
    {
      "cell_type": "code",
      "source": [
        "#El histograma muestra una ligera asimetría hacia la izquierda, no muestra una distribución normal. El pico de los datos puede observarse en el valor 0.20."
      ],
      "metadata": {
        "id": "bFNdkR09EtmU"
      },
      "execution_count": null,
      "outputs": []
    },
    {
      "cell_type": "code",
      "source": [
        "#Faltan las demas EDA de esta variable"
      ],
      "metadata": {
        "id": "ji93QNKLF5GM"
      },
      "execution_count": null,
      "outputs": []
    },
    {
      "cell_type": "code",
      "source": [
        "#Variable SD"
      ],
      "metadata": {
        "id": "mR6xBwNfF9Bj"
      },
      "execution_count": null,
      "outputs": []
    },
    {
      "cell_type": "code",
      "source": [
        "voces[\"sd\"].min()"
      ],
      "metadata": {
        "id": "kj30ulbfGq8j"
      },
      "execution_count": null,
      "outputs": []
    },
    {
      "cell_type": "code",
      "source": [
        "#El valor más bajo de la variable sd es de 0.0183"
      ],
      "metadata": {
        "id": "BfSIbr_XExTJ"
      },
      "execution_count": null,
      "outputs": []
    },
    {
      "cell_type": "code",
      "source": [
        "voces[\"sd\"].max()"
      ],
      "metadata": {
        "id": "poVtxm12GxE7"
      },
      "execution_count": null,
      "outputs": []
    },
    {
      "cell_type": "code",
      "source": [
        "#El valor más alto de la variable sd es de 0.1152"
      ],
      "metadata": {
        "id": "i6-PDVh-E4il"
      },
      "execution_count": null,
      "outputs": []
    },
    {
      "cell_type": "code",
      "source": [
        "voces[\"sd\"].mode()"
      ],
      "metadata": {
        "id": "fSNM-elfGzk9"
      },
      "execution_count": null,
      "outputs": []
    },
    {
      "cell_type": "code",
      "source": [
        "#Para la variable sd existen dos modas, 0.0431 y 0.0577, estos son los valores que más se repiten"
      ],
      "metadata": {
        "id": "LgmN6w1-FEx3"
      },
      "execution_count": null,
      "outputs": []
    },
    {
      "cell_type": "code",
      "source": [
        "voces[\"sd\"].median()"
      ],
      "metadata": {
        "id": "ArT7E8A2HUqi"
      },
      "execution_count": null,
      "outputs": []
    },
    {
      "cell_type": "code",
      "source": [
        "#Para la variable sd, el 50% de los valores son iguales o menores que 0.0591 y el otro 50% de los valores, son mayores o iguales que 0.0591"
      ],
      "metadata": {
        "id": "-pvDILjJFX6D"
      },
      "execution_count": null,
      "outputs": []
    },
    {
      "cell_type": "code",
      "source": [
        "voces[\"sd\"].mean()"
      ],
      "metadata": {
        "id": "6LkEwRKXHeGo"
      },
      "execution_count": null,
      "outputs": []
    },
    {
      "cell_type": "code",
      "source": [
        "#En promedio, la desviación estandar de la frecuencia es de 0.0571"
      ],
      "metadata": {
        "id": "iT6fPqx1FoXS"
      },
      "execution_count": null,
      "outputs": []
    },
    {
      "cell_type": "code",
      "source": [
        "voces[\"sd\"].std()"
      ],
      "metadata": {
        "id": "BDWt00xSHkfZ"
      },
      "execution_count": null,
      "outputs": []
    },
    {
      "cell_type": "code",
      "source": [
        "#Los datos de la variable sd, tienen una dispersión de 0.0166"
      ],
      "metadata": {
        "id": "uBUkMFPlF4Y6"
      },
      "execution_count": null,
      "outputs": []
    },
    {
      "cell_type": "code",
      "source": [
        "voces[\"sd\"].hist()\n",
        "plt.show()"
      ],
      "metadata": {
        "id": "brwsMRXYH-Cl"
      },
      "execution_count": null,
      "outputs": []
    },
    {
      "cell_type": "code",
      "source": [
        "#Este histograma no muestra una distribución normal, en el mismo pueden identificarse dos modas"
      ],
      "metadata": {
        "id": "iSBiw9lwGsp5"
      },
      "execution_count": null,
      "outputs": []
    },
    {
      "cell_type": "code",
      "source": [
        "#Faltan las demás EDA de esta variable"
      ],
      "metadata": {
        "id": "AI4qYdcyILLZ"
      },
      "execution_count": null,
      "outputs": []
    },
    {
      "cell_type": "code",
      "source": [
        "#Variable median"
      ],
      "metadata": {
        "id": "kCFanr3EI4DK"
      },
      "execution_count": null,
      "outputs": []
    },
    {
      "cell_type": "code",
      "source": [
        "voces[\"median\"].min()"
      ],
      "metadata": {
        "id": "g2KaaKfwI71G"
      },
      "execution_count": null,
      "outputs": []
    },
    {
      "cell_type": "code",
      "source": [
        "#El valor mínimo de la variable median es de 0.0109"
      ],
      "metadata": {
        "id": "JIo4BTY4Guoq"
      },
      "execution_count": null,
      "outputs": []
    },
    {
      "cell_type": "code",
      "source": [
        "voces[\"median\"].max()"
      ],
      "metadata": {
        "id": "cmnjVd5TJCki"
      },
      "execution_count": null,
      "outputs": []
    },
    {
      "cell_type": "code",
      "source": [
        "#El valor máximo de la variable median es de 0.2612"
      ],
      "metadata": {
        "id": "DkAZwiVDG1A2"
      },
      "execution_count": null,
      "outputs": []
    },
    {
      "cell_type": "code",
      "source": [
        "voces[\"median\"].mode()"
      ],
      "metadata": {
        "id": "wx_1MnO7JGjj"
      },
      "execution_count": null,
      "outputs": []
    },
    {
      "cell_type": "code",
      "source": [
        "#El valor que más se repite en la variable median es 0.1866"
      ],
      "metadata": {
        "id": "T-IP2v4KG6s5"
      },
      "execution_count": null,
      "outputs": []
    },
    {
      "cell_type": "code",
      "source": [
        "voces[\"median\"].median()"
      ],
      "metadata": {
        "id": "2riRyXgpJJsk"
      },
      "execution_count": null,
      "outputs": []
    },
    {
      "cell_type": "code",
      "source": [
        "#Para la variable median, el 50% de los datos son menores o iguales que 0.1900 y el otro 50% de los datos son mayores o iguales que 0.1900"
      ],
      "metadata": {
        "id": "qDJ8eFtYHXfi"
      },
      "execution_count": null,
      "outputs": []
    },
    {
      "cell_type": "code",
      "source": [
        "voces[\"median\"].mean()"
      ],
      "metadata": {
        "id": "rgerhFlmJMV0"
      },
      "execution_count": null,
      "outputs": []
    },
    {
      "cell_type": "code",
      "source": [
        "#En promedio, la frecuencia media es de 0.1856"
      ],
      "metadata": {
        "id": "go1EYTTZHkpe"
      },
      "execution_count": null,
      "outputs": []
    },
    {
      "cell_type": "code",
      "source": [
        "voces[\"median\"].std()"
      ],
      "metadata": {
        "id": "wjIOlKO4JPev"
      },
      "execution_count": null,
      "outputs": []
    },
    {
      "cell_type": "code",
      "source": [
        "#Los datos de la variable median, tienen una dispersion de 0.0363"
      ],
      "metadata": {
        "id": "w7nca8KJH7Qx"
      },
      "execution_count": null,
      "outputs": []
    },
    {
      "cell_type": "code",
      "source": [
        "voces[\"median\"].hist()\n",
        "plt.show()"
      ],
      "metadata": {
        "id": "dUjMS5iIJSqE"
      },
      "execution_count": null,
      "outputs": []
    },
    {
      "cell_type": "code",
      "source": [
        "#El histograma no muestra una distribución normal, presenta asimetría hacia la izquierda, el pico de los datos puede ubicarse cerca del valor 0.20"
      ],
      "metadata": {
        "id": "xLwVD9etIM0c"
      },
      "execution_count": null,
      "outputs": []
    },
    {
      "cell_type": "code",
      "source": [
        "#Faltan las demás EDA de esta variable"
      ],
      "metadata": {
        "id": "dD3fL-eWKrOv"
      },
      "execution_count": null,
      "outputs": []
    },
    {
      "cell_type": "code",
      "source": [
        "#Variable Q25"
      ],
      "metadata": {
        "id": "_9yANS-XK8e6"
      },
      "execution_count": null,
      "outputs": []
    },
    {
      "cell_type": "code",
      "source": [
        "voces[\"Q25\"].min()"
      ],
      "metadata": {
        "id": "3ZU0N536LKjp"
      },
      "execution_count": null,
      "outputs": []
    },
    {
      "cell_type": "code",
      "source": [
        "#El valor mínimo de la variable Q25 es de 0.0002"
      ],
      "metadata": {
        "id": "EEMP2MKZIOrb"
      },
      "execution_count": null,
      "outputs": []
    },
    {
      "cell_type": "code",
      "source": [
        "voces[\"Q25\"].max()"
      ],
      "metadata": {
        "id": "FAdG0fFPLVn_"
      },
      "execution_count": null,
      "outputs": []
    },
    {
      "cell_type": "code",
      "source": [
        "#El valor máximo de la variable Q25 es de 0.2473"
      ],
      "metadata": {
        "id": "hlIWKgYaIT_m"
      },
      "execution_count": null,
      "outputs": []
    },
    {
      "cell_type": "code",
      "source": [
        "voces[\"Q25\"].mode()"
      ],
      "metadata": {
        "id": "Y-u--uFILabX"
      },
      "execution_count": null,
      "outputs": []
    },
    {
      "cell_type": "code",
      "source": [
        "#El valor de la variable Q25 que más se repite es 0.14"
      ],
      "metadata": {
        "id": "i0cTkr9SIZ1e"
      },
      "execution_count": null,
      "outputs": []
    },
    {
      "cell_type": "code",
      "source": [
        "voces[\"Q25\"].median()"
      ],
      "metadata": {
        "id": "Ab83LSegLfwG"
      },
      "execution_count": null,
      "outputs": []
    },
    {
      "cell_type": "code",
      "source": [
        "#Para la variable Q25, el 50% de los datos son menores o iguales que 0.1403 y el otro 50%, son mayores o iguales que 0.1403"
      ],
      "metadata": {
        "id": "_kRKBd3GIf_8"
      },
      "execution_count": null,
      "outputs": []
    },
    {
      "cell_type": "code",
      "source": [
        "voces[\"Q25\"].mean()"
      ],
      "metadata": {
        "id": "3plx1TJhLj9M"
      },
      "execution_count": null,
      "outputs": []
    },
    {
      "cell_type": "code",
      "source": [
        "#En promedio, el valor del primer cuantil es de 0.1405"
      ],
      "metadata": {
        "id": "GyGRl5urIwYZ"
      },
      "execution_count": null,
      "outputs": []
    },
    {
      "cell_type": "code",
      "source": [
        "voces[\"Q25\"].std()"
      ],
      "metadata": {
        "id": "D1ER_qGdL7YA"
      },
      "execution_count": null,
      "outputs": []
    },
    {
      "cell_type": "code",
      "source": [
        "#Los datos de la variable Q25, tienen una dispersion de 0.0486"
      ],
      "metadata": {
        "id": "yUTrH_ktJMXc"
      },
      "execution_count": null,
      "outputs": []
    },
    {
      "cell_type": "code",
      "source": [
        "voces[\"Q25\"].hist()\n",
        "plt.show()"
      ],
      "metadata": {
        "id": "FBCXmJkQMJTj"
      },
      "execution_count": null,
      "outputs": []
    },
    {
      "cell_type": "code",
      "source": [
        "#Este histograma se aproxima más a tener una distribución simétrica, similar a la forma de una campana de Gauss, aproixmándose a una distribución normal"
      ],
      "metadata": {
        "id": "BbcXv6KnJbRw"
      },
      "execution_count": null,
      "outputs": []
    },
    {
      "cell_type": "code",
      "source": [
        "#Variable Q75"
      ],
      "metadata": {
        "id": "gy1qeQzskqPs"
      },
      "execution_count": null,
      "outputs": []
    },
    {
      "cell_type": "code",
      "source": [
        "voces[\"Q75\"].min()"
      ],
      "metadata": {
        "id": "9F68KkG1kuQc"
      },
      "execution_count": null,
      "outputs": []
    },
    {
      "cell_type": "code",
      "source": [
        "#El valor mínimo de la variable Q75 es de 0.0429"
      ],
      "metadata": {
        "id": "cwWw92uDJeiS"
      },
      "execution_count": null,
      "outputs": []
    },
    {
      "cell_type": "code",
      "source": [
        "voces[\"Q75\"].max()"
      ],
      "metadata": {
        "id": "dIpZhTkWlJ0o"
      },
      "execution_count": null,
      "outputs": []
    },
    {
      "cell_type": "code",
      "source": [
        "#El valor máximo de la variable Q75 es de 0.2734"
      ],
      "metadata": {
        "id": "zR5ggAaHJkDu"
      },
      "execution_count": null,
      "outputs": []
    },
    {
      "cell_type": "code",
      "source": [
        "voces[\"Q75\"].mode()"
      ],
      "metadata": {
        "id": "Xx3lk19slMhJ"
      },
      "execution_count": null,
      "outputs": []
    },
    {
      "cell_type": "code",
      "source": [
        "#La variable Q75 tiene dos modas, los valores que más se repiten son: 0.2400 y 0.2418"
      ],
      "metadata": {
        "id": "CYpceP0pJrpX"
      },
      "execution_count": null,
      "outputs": []
    },
    {
      "cell_type": "code",
      "source": [
        "voces[\"Q75\"].median()"
      ],
      "metadata": {
        "id": "hepCndsZlQus"
      },
      "execution_count": null,
      "outputs": []
    },
    {
      "cell_type": "code",
      "source": [
        "#Para la variable Q75, el 50% de los datos son menores o iguales que 0.2257 y el 50% de los datos son mayores o iguales a 0.2257"
      ],
      "metadata": {
        "id": "yVmOoWnYJ0LV"
      },
      "execution_count": null,
      "outputs": []
    },
    {
      "cell_type": "code",
      "source": [
        "voces[\"Q75\"].mean()"
      ],
      "metadata": {
        "id": "jmY0HGa6l2w0"
      },
      "execution_count": null,
      "outputs": []
    },
    {
      "cell_type": "code",
      "source": [
        "#En promedio, el valor del tercer cuantil es de 0.2247"
      ],
      "metadata": {
        "id": "fsQyvMMNKG7D"
      },
      "execution_count": null,
      "outputs": []
    },
    {
      "cell_type": "code",
      "source": [
        "voces[\"Q75\"].std()"
      ],
      "metadata": {
        "id": "81EO1-cWl50F"
      },
      "execution_count": null,
      "outputs": []
    },
    {
      "cell_type": "code",
      "source": [
        "#Para la variable Q75, la dispersión de los datos es de 0.0236"
      ],
      "metadata": {
        "id": "bKXTeWjtKS9C"
      },
      "execution_count": null,
      "outputs": []
    },
    {
      "cell_type": "code",
      "source": [
        "voces[\"Q75\"].hist()\n",
        "plt.show()"
      ],
      "metadata": {
        "id": "3Aj1zsJwl9M9"
      },
      "execution_count": null,
      "outputs": []
    },
    {
      "cell_type": "code",
      "source": [
        "#El histograma muestra una fuerte asimetria hacia la derecha, no muestra una distribución normal, el mismo muestra varios valores atípicos."
      ],
      "metadata": {
        "id": "YWfmsuLuKeYl"
      },
      "execution_count": null,
      "outputs": []
    },
    {
      "cell_type": "code",
      "source": [
        "#Variable IQR"
      ],
      "metadata": {
        "id": "qwWIVr-vgO2I"
      },
      "execution_count": null,
      "outputs": []
    },
    {
      "cell_type": "code",
      "source": [
        "voces[\"IQR\"].min()"
      ],
      "metadata": {
        "id": "rzdtaS_bew7-"
      },
      "execution_count": null,
      "outputs": []
    },
    {
      "cell_type": "code",
      "source": [
        "#El valor mínimo de la variable IQR es de 0.0145"
      ],
      "metadata": {
        "id": "Y98M9ZlSKjhO"
      },
      "execution_count": null,
      "outputs": []
    },
    {
      "cell_type": "code",
      "source": [
        "voces[\"IQR\"].max()"
      ],
      "metadata": {
        "id": "G0UgUTLMhGE0"
      },
      "execution_count": null,
      "outputs": []
    },
    {
      "cell_type": "code",
      "source": [
        "#El valor máximo de la variable IQR es de 0.2522"
      ],
      "metadata": {
        "id": "khchzN1MK2gm"
      },
      "execution_count": null,
      "outputs": []
    },
    {
      "cell_type": "code",
      "source": [
        "voces[\"IQR\"].mode()"
      ],
      "metadata": {
        "id": "m4jY_wMuhJj-"
      },
      "execution_count": null,
      "outputs": []
    },
    {
      "cell_type": "code",
      "source": [
        "#Para la variable IQR hay tres modas, los valores que más se repiten son: 0.0350, 0.0430 y 0.1050"
      ],
      "metadata": {
        "id": "vbqRFhGWK89h"
      },
      "execution_count": null,
      "outputs": []
    },
    {
      "cell_type": "code",
      "source": [
        "voces[\"IQR\"].median()"
      ],
      "metadata": {
        "id": "BBWS3-P3hM8T"
      },
      "execution_count": null,
      "outputs": []
    },
    {
      "cell_type": "code",
      "source": [
        "#Para la variable IQR, el 50% de los valores son menores o iguales a 0.0941 y el otro 50% de los valores es mayor o igual a 0.0941"
      ],
      "metadata": {
        "id": "gWNvNMQNLI8W"
      },
      "execution_count": null,
      "outputs": []
    },
    {
      "cell_type": "code",
      "source": [
        "voces[\"IQR\"].mean()"
      ],
      "metadata": {
        "id": "F5z1TV9uhQAK"
      },
      "execution_count": null,
      "outputs": []
    },
    {
      "cell_type": "code",
      "source": [
        "#En promedio, el valor del rango intercuantílico es de 0.0842"
      ],
      "metadata": {
        "id": "w7CA5Rx_LWoW"
      },
      "execution_count": null,
      "outputs": []
    },
    {
      "cell_type": "code",
      "source": [
        "voces[\"IQR\"].std()"
      ],
      "metadata": {
        "id": "EKENDZJEhSqq"
      },
      "execution_count": null,
      "outputs": []
    },
    {
      "cell_type": "code",
      "source": [
        "#Para la variable IQR, la dispersión de los datos es de 0.0427"
      ],
      "metadata": {
        "id": "qZn4J7OoLrHn"
      },
      "execution_count": null,
      "outputs": []
    },
    {
      "cell_type": "code",
      "source": [
        "voces[\"IQR\"].hist()\n",
        "plt.show()"
      ],
      "metadata": {
        "id": "WTuBcfyMhWdZ"
      },
      "execution_count": null,
      "outputs": []
    },
    {
      "cell_type": "code",
      "source": [
        "#El histograma no muestra una distribución normal, el mismo presenta una distribución multimodal, así como algunos valores atípicos"
      ],
      "metadata": {
        "id": "IFPl5GneL-VS"
      },
      "execution_count": null,
      "outputs": []
    },
    {
      "cell_type": "code",
      "source": [
        "#Faltan las demás EDA de esta variable"
      ],
      "metadata": {
        "id": "eH88jAZPhzd1"
      },
      "execution_count": null,
      "outputs": []
    },
    {
      "cell_type": "code",
      "source": [
        "#Variable skew"
      ],
      "metadata": {
        "id": "gJzPdtUrh3la"
      },
      "execution_count": null,
      "outputs": []
    },
    {
      "cell_type": "code",
      "source": [
        "voces[\"skew\"].min()"
      ],
      "metadata": {
        "id": "9kiXb1bph6_o"
      },
      "execution_count": null,
      "outputs": []
    },
    {
      "cell_type": "code",
      "source": [
        "#El valor mínimo de la variable skew es de 0.0001"
      ],
      "metadata": {
        "id": "Bk8RvTgUL_5R"
      },
      "execution_count": null,
      "outputs": []
    },
    {
      "cell_type": "code",
      "source": [
        "voces[\"skew\"].max()"
      ],
      "metadata": {
        "id": "2lhVYbYGiBLZ"
      },
      "execution_count": null,
      "outputs": []
    },
    {
      "cell_type": "code",
      "source": [
        "#El valor máximo de la variable skew es de 0.9974"
      ],
      "metadata": {
        "id": "ANC9Xv7dOCH_"
      },
      "execution_count": null,
      "outputs": []
    },
    {
      "cell_type": "code",
      "source": [
        "voces[\"skew\"].mode()"
      ],
      "metadata": {
        "id": "nfvm0tepiDlD"
      },
      "execution_count": null,
      "outputs": []
    },
    {
      "cell_type": "code",
      "source": [
        "#La variable skew cuenta con dos modas, los valores que más se repiten son: 0.1862 y 0.2113"
      ],
      "metadata": {
        "id": "ib_rqLdOOJe_"
      },
      "execution_count": null,
      "outputs": []
    },
    {
      "cell_type": "code",
      "source": [
        "voces[\"skew\"].median()"
      ],
      "metadata": {
        "id": "XiIWAP92iGnc"
      },
      "execution_count": null,
      "outputs": []
    },
    {
      "cell_type": "code",
      "source": [
        "#Para la variable skew, el 50% de los valores son menores o iguales 0.2102 y el otro 50% de los valores es mayor o igual que 0.2102"
      ],
      "metadata": {
        "id": "VXaaFIOFOTcW"
      },
      "execution_count": null,
      "outputs": []
    },
    {
      "cell_type": "code",
      "source": [
        "voces[\"skew\"].mean()"
      ],
      "metadata": {
        "id": "0Jyhz50eiJi3"
      },
      "execution_count": null,
      "outputs": []
    },
    {
      "cell_type": "code",
      "source": [
        "#El promedio de la asimetría es de 0.2356"
      ],
      "metadata": {
        "id": "c0WCzCsqOtjM"
      },
      "execution_count": null,
      "outputs": []
    },
    {
      "cell_type": "code",
      "source": [
        "voces[\"skew\"].std()"
      ],
      "metadata": {
        "id": "vFeGzWBsiNU0"
      },
      "execution_count": null,
      "outputs": []
    },
    {
      "cell_type": "code",
      "source": [
        "#Los datos de la variable skew tienen una dispersión de 0.1626"
      ],
      "metadata": {
        "id": "pyQIG3YOO86N"
      },
      "execution_count": null,
      "outputs": []
    },
    {
      "cell_type": "code",
      "source": [
        "voces[\"skew\"].hist()\n",
        "plt.show()"
      ],
      "metadata": {
        "id": "GzBvqbcEiP1r"
      },
      "execution_count": null,
      "outputs": []
    },
    {
      "cell_type": "code",
      "source": [
        "#El histograma no muestra una distribución normla, tiene una fuerte asimetría hacia la derecha y muestra una serie de valores atípicos que van desde el 0.4 a cerca del 1.0"
      ],
      "metadata": {
        "id": "sBLsDCLXPF1T"
      },
      "execution_count": null,
      "outputs": []
    },
    {
      "cell_type": "code",
      "source": [
        "#Variable kurt"
      ],
      "metadata": {
        "id": "BwobM9wJiz5q"
      },
      "execution_count": null,
      "outputs": []
    },
    {
      "cell_type": "code",
      "source": [
        "voces[\"kurt\"].min()"
      ],
      "metadata": {
        "id": "v0kDoQlJi3V9"
      },
      "execution_count": null,
      "outputs": []
    },
    {
      "cell_type": "code",
      "source": [
        "#El valor mínimo de la variable kurt es de 0.0001"
      ],
      "metadata": {
        "id": "jNpCQwDTPH_F"
      },
      "execution_count": null,
      "outputs": []
    },
    {
      "cell_type": "code",
      "source": [
        "voces[\"kurt\"].max()"
      ],
      "metadata": {
        "id": "phfRDM4Xi8_z"
      },
      "execution_count": null,
      "outputs": []
    },
    {
      "cell_type": "code",
      "source": [
        "#El valor máximo de la variable kurt es de 0.9993"
      ],
      "metadata": {
        "id": "VMu5NBoRPOo4"
      },
      "execution_count": null,
      "outputs": []
    },
    {
      "cell_type": "code",
      "source": [
        "voces[\"kurt\"].mode()"
      ],
      "metadata": {
        "id": "qL6a3954jFxo"
      },
      "execution_count": null,
      "outputs": []
    },
    {
      "cell_type": "code",
      "source": [
        "#La variable kurt cuenta con dos modas, los valores que más se repiten son: 0.6109 y 0.7890"
      ],
      "metadata": {
        "id": "psScDqVbPT5q"
      },
      "execution_count": null,
      "outputs": []
    },
    {
      "cell_type": "code",
      "source": [
        "voces[\"kurt\"].median()"
      ],
      "metadata": {
        "id": "sRwSrGLkPkZl"
      },
      "execution_count": null,
      "outputs": []
    },
    {
      "cell_type": "code",
      "source": [
        "#Para la variable kurt, el 50% de los valores son menores o iguales a 0.4281 y el otro 50% de los valores es mayor o igual que 0.4281"
      ],
      "metadata": {
        "id": "tGNeLzh2Pn9q"
      },
      "execution_count": null,
      "outputs": []
    },
    {
      "cell_type": "code",
      "source": [
        "voces[\"kurt\"].mean()"
      ],
      "metadata": {
        "id": "O6VKu541jJcx"
      },
      "execution_count": null,
      "outputs": []
    },
    {
      "cell_type": "code",
      "source": [
        "#En promedio, la kurtosis es de 0.4271"
      ],
      "metadata": {
        "id": "11D65CZ1P0Ik"
      },
      "execution_count": null,
      "outputs": []
    },
    {
      "cell_type": "code",
      "source": [
        "voces[\"kurt\"].std()"
      ],
      "metadata": {
        "id": "PLF2-wmhjN78"
      },
      "execution_count": null,
      "outputs": []
    },
    {
      "cell_type": "code",
      "source": [
        "#Para la variable kurt, los datos tienen una dispersión de 0.2852"
      ],
      "metadata": {
        "id": "GUQvzJw0P_Ie"
      },
      "execution_count": null,
      "outputs": []
    },
    {
      "cell_type": "code",
      "source": [
        "voces[\"kurt\"].hist()\n",
        "plt.show()"
      ],
      "metadata": {
        "id": "aSBaRIQ4jVyt"
      },
      "execution_count": null,
      "outputs": []
    },
    {
      "cell_type": "code",
      "source": [
        "#Este histograma no muestra una distribución normal, puede observarse un pico de datos alrededor del valor 0.1, la dispersión de los datos puede observarse desde el valor 0.0 hasta el valor 1.0"
      ],
      "metadata": {
        "id": "mZE-FvS4QHoO"
      },
      "execution_count": null,
      "outputs": []
    },
    {
      "cell_type": "code",
      "source": [
        "#Faltan las demás EDA de esta variable"
      ],
      "metadata": {
        "id": "jmttQYf6sFi8"
      },
      "execution_count": null,
      "outputs": []
    },
    {
      "cell_type": "code",
      "source": [
        "#Variable sp.ent"
      ],
      "metadata": {
        "id": "UQOwyx2hsPSz"
      },
      "execution_count": null,
      "outputs": []
    },
    {
      "cell_type": "code",
      "source": [
        "voces[\"sp.ent\"].min()"
      ],
      "metadata": {
        "id": "KeizEiVKsLAi"
      },
      "execution_count": null,
      "outputs": []
    },
    {
      "cell_type": "code",
      "source": [
        "#El valor más pequeño de la variable sp.ent es de 0.7386"
      ],
      "metadata": {
        "id": "NLKmew7sQKSv"
      },
      "execution_count": null,
      "outputs": []
    },
    {
      "cell_type": "code",
      "source": [
        "voces[\"sp.ent\"].max()"
      ],
      "metadata": {
        "id": "oNlQYrsosLgU"
      },
      "execution_count": null,
      "outputs": []
    },
    {
      "cell_type": "code",
      "source": [
        "#El valor más grande de la variable sp.ent es de 0.9819"
      ],
      "metadata": {
        "id": "vvFbOF0-QRIR"
      },
      "execution_count": null,
      "outputs": []
    },
    {
      "cell_type": "code",
      "source": [
        "voces[\"sp.ent\"].mode()"
      ],
      "metadata": {
        "id": "0nfPS7izsZQ-"
      },
      "execution_count": null,
      "outputs": []
    },
    {
      "cell_type": "code",
      "source": [
        "#La variable sp.ent cuenta con dos modas, los valores que más se repiten son: 0.8597 y 0.8776"
      ],
      "metadata": {
        "id": "RJycrFm-QXgP"
      },
      "execution_count": null,
      "outputs": []
    },
    {
      "cell_type": "code",
      "source": [
        "voces[\"sp.ent\"].median()"
      ],
      "metadata": {
        "id": "jiWNTgDgsnzk"
      },
      "execution_count": null,
      "outputs": []
    },
    {
      "cell_type": "code",
      "source": [
        "#Para la variable median, el 50% de los datos son menores o iguales que 0.9016 y el otro 50% son mayores o iguales que 0.9016"
      ],
      "metadata": {
        "id": "23OgM3v8QkVI"
      },
      "execution_count": null,
      "outputs": []
    },
    {
      "cell_type": "code",
      "source": [
        "voces[\"sp.ent\"].mean()"
      ],
      "metadata": {
        "id": "cqtSCFVPsqx-"
      },
      "execution_count": null,
      "outputs": []
    },
    {
      "cell_type": "code",
      "source": [
        "#En promedio, la entropía espectral es de 0.895052"
      ],
      "metadata": {
        "id": "4lY1mbylV30p"
      },
      "execution_count": null,
      "outputs": []
    },
    {
      "cell_type": "code",
      "source": [
        "voces[\"sp.ent\"].std()"
      ],
      "metadata": {
        "id": "0JRL3hK4stts"
      },
      "execution_count": null,
      "outputs": []
    },
    {
      "cell_type": "code",
      "source": [
        "#Para la variable sp.ent, la desviación de los datos es de 0.0449"
      ],
      "metadata": {
        "id": "05owOCdnV_61"
      },
      "execution_count": null,
      "outputs": []
    },
    {
      "cell_type": "code",
      "source": [
        "voces[\"sp.ent\"].hist()\n",
        "plt.show()"
      ],
      "metadata": {
        "id": "YqUD4qLis-du"
      },
      "execution_count": null,
      "outputs": []
    },
    {
      "cell_type": "code",
      "source": [
        "#Este histograma no muestra una distribución normal, muestra cierta asimetría hacia la izquierda, el pico de los datos puede ubicarse cerca del valor 0.93"
      ],
      "metadata": {
        "id": "7kNx3MXLWlGt"
      },
      "execution_count": null,
      "outputs": []
    },
    {
      "cell_type": "code",
      "source": [
        "#Variable sfm"
      ],
      "metadata": {
        "id": "WTkPelWRujYi"
      },
      "execution_count": null,
      "outputs": []
    },
    {
      "cell_type": "code",
      "source": [
        "voces[\"sfm\"].min()"
      ],
      "metadata": {
        "id": "eoc8LYTMumye"
      },
      "execution_count": null,
      "outputs": []
    },
    {
      "cell_type": "code",
      "source": [
        "#El valor mínimo de la variable sfm es de 0.0368"
      ],
      "metadata": {
        "id": "xJ_vOr_lXBAH"
      },
      "execution_count": null,
      "outputs": []
    },
    {
      "cell_type": "code",
      "source": [
        "voces[\"sfm\"].max()"
      ],
      "metadata": {
        "id": "FKUp_huYurm4"
      },
      "execution_count": null,
      "outputs": []
    },
    {
      "cell_type": "code",
      "source": [
        "#El valor máximo de la variable sfm es de 0.8429"
      ],
      "metadata": {
        "id": "s_21EYmPXP1X"
      },
      "execution_count": null,
      "outputs": []
    },
    {
      "cell_type": "code",
      "source": [
        "voces[\"sfm\"].mode()"
      ],
      "metadata": {
        "id": "N7FykI-9uvb9"
      },
      "execution_count": null,
      "outputs": []
    },
    {
      "cell_type": "code",
      "source": [
        "#La variable sfm tiene dos modas, los valores que más se repiten son: 0.0849 y 0.3143"
      ],
      "metadata": {
        "id": "5UQmdOt6XVO3"
      },
      "execution_count": null,
      "outputs": []
    },
    {
      "cell_type": "code",
      "source": [
        "voces[\"sfm\"].median()"
      ],
      "metadata": {
        "id": "8mOhq4dxuyP7"
      },
      "execution_count": null,
      "outputs": []
    },
    {
      "cell_type": "code",
      "source": [
        "#Para la variable sfm, el 50% de los datos son menores o iguales que 0.3960 y el otro 50% de los datos son mayores o iguales que 0.3960"
      ],
      "metadata": {
        "id": "64RiqlQJXe-G"
      },
      "execution_count": null,
      "outputs": []
    },
    {
      "cell_type": "code",
      "source": [
        "voces[\"sfm\"].mean()"
      ],
      "metadata": {
        "id": "A4h2kAXau3xF"
      },
      "execution_count": null,
      "outputs": []
    },
    {
      "cell_type": "code",
      "source": [
        "#En promedio, la planitud espectral es de 0.4079"
      ],
      "metadata": {
        "id": "xxLJGgmzXrAX"
      },
      "execution_count": null,
      "outputs": []
    },
    {
      "cell_type": "code",
      "source": [
        "voces[\"sfm\"].std()"
      ],
      "metadata": {
        "id": "ZPgl6Iahu6NA"
      },
      "execution_count": null,
      "outputs": []
    },
    {
      "cell_type": "code",
      "source": [
        "#Para la variable sfm, la desviación de los datos es de 0.1774"
      ],
      "metadata": {
        "id": "EEGIsYgFX1rT"
      },
      "execution_count": null,
      "outputs": []
    },
    {
      "cell_type": "code",
      "source": [
        "voces[\"sfm\"].hist()\n",
        "plt.show()"
      ],
      "metadata": {
        "id": "9YZbVdXku821"
      },
      "execution_count": null,
      "outputs": []
    },
    {
      "cell_type": "code",
      "source": [
        "#Este histograma es multimodal, no muestra una distribución normal, la dispersión de los datos va desde alrededor de 0.05 hasta 0.85"
      ],
      "metadata": {
        "id": "mj58zBrOYJF5"
      },
      "execution_count": null,
      "outputs": []
    },
    {
      "cell_type": "code",
      "source": [
        "#Faltan las demas EDA de esta variable"
      ],
      "metadata": {
        "id": "2-CpLvQ1vBnk"
      },
      "execution_count": null,
      "outputs": []
    }
  ]
}